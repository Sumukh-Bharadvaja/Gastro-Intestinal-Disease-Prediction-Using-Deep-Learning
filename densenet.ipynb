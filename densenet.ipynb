{
 "cells": [
  {
   "cell_type": "code",
   "execution_count": 10,
   "id": "3529790c-2c28-4a0d-9c27-e51b673eed4d",
   "metadata": {},
   "outputs": [],
   "source": [
    "import os \n",
    "import pathlib\n",
    "import numpy as np\n",
    "import pandas as pd\n",
    "import matplotlib.pyplot as plt\n",
    "import seaborn as sns\n",
    "import cv2\n",
    "from sklearn.metrics import confusion_matrix, ConfusionMatrixDisplay\n",
    "from sklearn.model_selection import train_test_split, StratifiedKFold\n",
    "from sklearn.preprocessing import LabelEncoder\n",
    "from tensorflow.keras.utils import to_categorical\n",
    "from tensorflow.keras.applications import DenseNet121\n",
    "from tensorflow.keras.models import Sequential\n",
    "from tensorflow.keras.layers import GlobalAveragePooling2D\n",
    "from tensorflow.keras.layers import Dense, Flatten, Dropout\n",
    "from tensorflow.keras.optimizers import Adam\n",
    "from tensorflow.keras.applications.densenet import preprocess_input as densenet_preprocess_input"
   ]
  },
  {
   "cell_type": "code",
   "execution_count": 2,
   "id": "6d39187a-7695-45ca-b1d1-be6929e8c57a",
   "metadata": {},
   "outputs": [],
   "source": [
    "# Load and preprocess the data\n",
    "def load_and_preprocess_data(data):\n",
    "    images = []\n",
    "    labels = []\n",
    "    for label, image_paths in data.items():\n",
    "        for path in image_paths:\n",
    "            img = cv2.imread(str(path))\n",
    "            img = cv2.cvtColor(img, cv2.COLOR_BGR2RGB)  # Convert image to RGB format\n",
    "            img = cv2.resize(img, (224, 224))  # Resize image to VGG16 input size\n",
    "            images.append(img)\n",
    "            labels.append(label)\n",
    "    images = np.array(images)\n",
    "    labels = np.array(labels)\n",
    "    return images, labels"
   ]
  },
  {
   "cell_type": "code",
   "execution_count": 3,
   "id": "3ed657a5-55ba-483a-882a-c5eb8fd5da2e",
   "metadata": {},
   "outputs": [],
   "source": [
    "# Load data\n",
    "path = pathlib.Path(r\"C:\\Users\\akshi\\OneDrive\\Desktop\\gmu\\ait 736\\mid project\\kvasir-dataset\\kvasir-dataset\")"
   ]
  },
  {
   "cell_type": "code",
   "execution_count": 4,
   "id": "5c4cbfac-c291-4e13-89dc-ea603dd2b099",
   "metadata": {},
   "outputs": [],
   "source": [
    "dyed_ifted_polyps = list(path.glob('dyed-lifted-polyps/*'))\n",
    "dyed_resection_margins = list(path.glob('dyed-resection-margins/*'))\n",
    "esophagitis = list(path.glob('esophagitis/*'))\n",
    "normal_cecum = list(path.glob('normal-cecum/*'))\n",
    "normal_pylorus = list(path.glob('normal-pylorus/*'))\n",
    "normal_z_line = list(path.glob('normal-z-line/*'))\n",
    "polyps = list(path.glob('polyps/*'))\n",
    "ulcerative_colitis = list(path.glob('ulcerative-colitis/*'))"
   ]
  },
  {
   "cell_type": "code",
   "execution_count": 5,
   "id": "18e4e7cd-53c8-45a7-b8bb-ed9e80102661",
   "metadata": {},
   "outputs": [],
   "source": [
    "data = {\n",
    "    'dyed-lifted-polyps' : dyed_ifted_polyps ,\n",
    "    'dyed-resection-margins' : dyed_resection_margins,\n",
    "    'esophagitis' : esophagitis,\n",
    "    'normal-cecum' : normal_cecum,\n",
    "    'normal-pylorus' : normal_pylorus,\n",
    "    'normal-z-line' : normal_z_line,\n",
    "    'polyps' : polyps,\n",
    "    'ulcerative-colitis' : ulcerative_colitis\n",
    "}\n",
    "\n",
    "polys_labels = {\n",
    "    0:'dyed-lifted-polyps',\n",
    "    1:'dyed-resection-margins',\n",
    "    2:'esophagitis',\n",
    "    3:'normal-cecum',\n",
    "    4:'normal-pylorus',\n",
    "    5:'normal-z-line',\n",
    "    6:'polyps',\n",
    "    7:'ulcerative-colitis'\n",
    "}"
   ]
  },
  {
   "cell_type": "code",
   "execution_count": 6,
   "id": "2c05404f-3d3f-4782-b4de-f9245ee3b263",
   "metadata": {},
   "outputs": [],
   "source": [
    "images, labels = load_and_preprocess_data(data)"
   ]
  },
  {
   "cell_type": "code",
   "execution_count": 7,
   "id": "12ea94e2-973a-482d-b1b1-9fedea26e830",
   "metadata": {},
   "outputs": [],
   "source": [
    "# Split the data into training, validation, and testing sets\n",
    "train_data, test_data, train_labels, test_labels = train_test_split(images, labels, test_size=0.2, random_state=42)\n",
    "train_data, val_data, train_labels, val_labels = train_test_split(train_data, train_labels, test_size=0.2, random_state=42)"
   ]
  },
  {
   "cell_type": "code",
   "execution_count": 8,
   "id": "02216def-fa38-437b-b3ab-f7afcee6b462",
   "metadata": {},
   "outputs": [],
   "source": [
    "# Convert string labels to numerical labels\n",
    "label_encoder = LabelEncoder()\n",
    "train_labels_encoded = label_encoder.fit_transform(train_labels)\n",
    "val_labels_encoded = label_encoder.transform(val_labels)\n",
    "test_labels_encoded = label_encoder.transform(test_labels)"
   ]
  },
  {
   "cell_type": "code",
   "execution_count": 11,
   "id": "3c111f96-861f-48f5-b5df-fc524ebdccac",
   "metadata": {},
   "outputs": [],
   "source": [
    "# Load DenseNet121 model with pre-trained weights\n",
    "base_model = DenseNet121(weights='imagenet', include_top=False, input_shape=(224, 224, 3))\n",
    "\n",
    "# Freeze the base model layers\n",
    "base_model.trainable = False\n",
    "\n",
    "# Build your classification model on top of the pre-trained DenseNet model\n",
    "model = Sequential([\n",
    "    base_model,\n",
    "    GlobalAveragePooling2D(),\n",
    "    Dense(256, activation='relu'),\n",
    "    Dropout(0.5),\n",
    "    Dense(8, activation='softmax')  # Adjust the output units based on the number of classes\n",
    "])"
   ]
  },
  {
   "cell_type": "code",
   "execution_count": 12,
   "id": "7f6e6e68-02e0-4158-b56f-f4894b631ccb",
   "metadata": {},
   "outputs": [],
   "source": [
    "# Compile the model\n",
    "model.compile(optimizer=Adam(learning_rate=0.001), loss='sparse_categorical_crossentropy', metrics=['accuracy'])\n",
    "\n",
    "# Preprocess the data using DenseNet's preprocess_input function\n",
    "train_data_densenet = densenet_preprocess_input(train_data)\n",
    "val_data_densenet = densenet_preprocess_input(val_data)\n",
    "test_data_densenet = densenet_preprocess_input(test_data)"
   ]
  },
  {
   "cell_type": "code",
   "execution_count": 13,
   "id": "7adb2661-b794-42e8-ac45-6bfefce89e6a",
   "metadata": {},
   "outputs": [
    {
     "name": "stdout",
     "output_type": "stream",
     "text": [
      "Epoch 1/10\n",
      "\u001b[1m80/80\u001b[0m \u001b[32m━━━━━━━━━━━━━━━━━━━━\u001b[0m\u001b[37m\u001b[0m \u001b[1m142s\u001b[0m 2s/step - accuracy: 0.4500 - loss: 1.6235 - val_accuracy: 0.8250 - val_loss: 0.4899\n",
      "Epoch 2/10\n",
      "\u001b[1m80/80\u001b[0m \u001b[32m━━━━━━━━━━━━━━━━━━━━\u001b[0m\u001b[37m\u001b[0m \u001b[1m122s\u001b[0m 2s/step - accuracy: 0.7827 - loss: 0.5624 - val_accuracy: 0.8453 - val_loss: 0.4088\n",
      "Epoch 3/10\n",
      "\u001b[1m80/80\u001b[0m \u001b[32m━━━━━━━━━━━━━━━━━━━━\u001b[0m\u001b[37m\u001b[0m \u001b[1m131s\u001b[0m 2s/step - accuracy: 0.8208 - loss: 0.4660 - val_accuracy: 0.8500 - val_loss: 0.3867\n",
      "Epoch 4/10\n",
      "\u001b[1m80/80\u001b[0m \u001b[32m━━━━━━━━━━━━━━━━━━━━\u001b[0m\u001b[37m\u001b[0m \u001b[1m131s\u001b[0m 2s/step - accuracy: 0.8436 - loss: 0.3879 - val_accuracy: 0.8438 - val_loss: 0.3670\n",
      "Epoch 5/10\n",
      "\u001b[1m80/80\u001b[0m \u001b[32m━━━━━━━━━━━━━━━━━━━━\u001b[0m\u001b[37m\u001b[0m \u001b[1m123s\u001b[0m 2s/step - accuracy: 0.8378 - loss: 0.3914 - val_accuracy: 0.8687 - val_loss: 0.3246\n",
      "Epoch 6/10\n",
      "\u001b[1m80/80\u001b[0m \u001b[32m━━━━━━━━━━━━━━━━━━━━\u001b[0m\u001b[37m\u001b[0m \u001b[1m124s\u001b[0m 2s/step - accuracy: 0.8721 - loss: 0.3245 - val_accuracy: 0.8609 - val_loss: 0.3323\n",
      "Epoch 7/10\n",
      "\u001b[1m80/80\u001b[0m \u001b[32m━━━━━━━━━━━━━━━━━━━━\u001b[0m\u001b[37m\u001b[0m \u001b[1m123s\u001b[0m 2s/step - accuracy: 0.8878 - loss: 0.2838 - val_accuracy: 0.8656 - val_loss: 0.3266\n",
      "Epoch 8/10\n",
      "\u001b[1m80/80\u001b[0m \u001b[32m━━━━━━━━━━━━━━━━━━━━\u001b[0m\u001b[37m\u001b[0m \u001b[1m123s\u001b[0m 2s/step - accuracy: 0.8747 - loss: 0.3027 - val_accuracy: 0.8781 - val_loss: 0.3305\n",
      "Epoch 9/10\n",
      "\u001b[1m80/80\u001b[0m \u001b[32m━━━━━━━━━━━━━━━━━━━━\u001b[0m\u001b[37m\u001b[0m \u001b[1m124s\u001b[0m 2s/step - accuracy: 0.8968 - loss: 0.2782 - val_accuracy: 0.8672 - val_loss: 0.3296\n",
      "Epoch 10/10\n",
      "\u001b[1m80/80\u001b[0m \u001b[32m━━━━━━━━━━━━━━━━━━━━\u001b[0m\u001b[37m\u001b[0m \u001b[1m122s\u001b[0m 2s/step - accuracy: 0.8926 - loss: 0.2456 - val_accuracy: 0.8656 - val_loss: 0.3297\n"
     ]
    }
   ],
   "source": [
    "# Train the model\n",
    "history = model.fit(train_data_densenet, train_labels_encoded, epochs=10, batch_size=32, validation_data=(val_data_densenet, val_labels_encoded))"
   ]
  },
  {
   "cell_type": "code",
   "execution_count": 15,
   "id": "ebaf7a59-4a2e-4130-bfbc-1e3e45bfc169",
   "metadata": {},
   "outputs": [
    {
     "name": "stdout",
     "output_type": "stream",
     "text": [
      "\u001b[1m25/25\u001b[0m \u001b[32m━━━━━━━━━━━━━━━━━━━━\u001b[0m\u001b[37m\u001b[0m \u001b[1m31s\u001b[0m 1s/step - accuracy: 0.9004 - loss: 0.2721\n",
      "Test Accuracy: 0.8849999904632568\n"
     ]
    }
   ],
   "source": [
    "# Evaluate the model\n",
    "test_loss, test_acc = model.evaluate(test_data_densenet, test_labels_encoded)\n",
    "print(f'Test Accuracy: {test_acc}')"
   ]
  },
  {
   "cell_type": "code",
   "execution_count": 16,
   "id": "f0f2ea04-eb26-468a-8bfa-03b934ae2cf6",
   "metadata": {},
   "outputs": [],
   "source": [
    "# Define model creation function\n",
    "def create_model():\n",
    "    base_model = DenseNet121(weights='imagenet', include_top=False, input_shape=(224, 224, 3))\n",
    "    for layer in base_model.layers:\n",
    "        layer.trainable = False\n",
    "    \n",
    "    model = Sequential([\n",
    "        base_model,\n",
    "        GlobalAveragePooling2D(),\n",
    "        Dense(256, activation='relu'),\n",
    "        Dropout(0.5),\n",
    "        Dense(8, activation='softmax')  # Adjust the output units based on the number of classes\n",
    "    ])\n",
    "    \n",
    "    model.compile(optimizer=Adam(learning_rate=0.001), loss='sparse_categorical_crossentropy', metrics=['accuracy'])\n",
    "    \n",
    "    return model"
   ]
  },
  {
   "cell_type": "code",
   "execution_count": 18,
   "id": "b1583b89-f730-413d-986e-126379d471c6",
   "metadata": {},
   "outputs": [
    {
     "name": "stdout",
     "output_type": "stream",
     "text": [
      "Fold 1/5\n",
      "Epoch 1/10\n",
      "\u001b[1m64/64\u001b[0m \u001b[32m━━━━━━━━━━━━━━━━━━━━\u001b[0m\u001b[37m\u001b[0m \u001b[1m119s\u001b[0m 2s/step - accuracy: 0.4665 - loss: 1.5367 - val_accuracy: 0.8320 - val_loss: 0.4706\n",
      "Epoch 2/10\n",
      "\u001b[1m64/64\u001b[0m \u001b[32m━━━━━━━━━━━━━━━━━━━━\u001b[0m\u001b[37m\u001b[0m \u001b[1m98s\u001b[0m 2s/step - accuracy: 0.7875 - loss: 0.5920 - val_accuracy: 0.8223 - val_loss: 0.4067\n",
      "Epoch 3/10\n",
      "\u001b[1m64/64\u001b[0m \u001b[32m━━━━━━━━━━━━━━━━━━━━\u001b[0m\u001b[37m\u001b[0m \u001b[1m98s\u001b[0m 2s/step - accuracy: 0.8338 - loss: 0.4499 - val_accuracy: 0.8301 - val_loss: 0.3911\n",
      "Epoch 4/10\n",
      "\u001b[1m64/64\u001b[0m \u001b[32m━━━━━━━━━━━━━━━━━━━━\u001b[0m\u001b[37m\u001b[0m \u001b[1m99s\u001b[0m 2s/step - accuracy: 0.8517 - loss: 0.4122 - val_accuracy: 0.8496 - val_loss: 0.3489\n",
      "Epoch 5/10\n",
      "\u001b[1m64/64\u001b[0m \u001b[32m━━━━━━━━━━━━━━━━━━━━\u001b[0m\u001b[37m\u001b[0m \u001b[1m99s\u001b[0m 2s/step - accuracy: 0.8627 - loss: 0.3661 - val_accuracy: 0.8555 - val_loss: 0.3434\n",
      "Epoch 6/10\n",
      "\u001b[1m64/64\u001b[0m \u001b[32m━━━━━━━━━━━━━━━━━━━━\u001b[0m\u001b[37m\u001b[0m \u001b[1m98s\u001b[0m 2s/step - accuracy: 0.8583 - loss: 0.3552 - val_accuracy: 0.8574 - val_loss: 0.3325\n",
      "Epoch 7/10\n",
      "\u001b[1m64/64\u001b[0m \u001b[32m━━━━━━━━━━━━━━━━━━━━\u001b[0m\u001b[37m\u001b[0m \u001b[1m101s\u001b[0m 2s/step - accuracy: 0.8668 - loss: 0.3219 - val_accuracy: 0.8516 - val_loss: 0.3340\n",
      "Epoch 8/10\n",
      "\u001b[1m64/64\u001b[0m \u001b[32m━━━━━━━━━━━━━━━━━━━━\u001b[0m\u001b[37m\u001b[0m \u001b[1m106s\u001b[0m 2s/step - accuracy: 0.8837 - loss: 0.2945 - val_accuracy: 0.8457 - val_loss: 0.3546\n",
      "Epoch 9/10\n",
      "\u001b[1m64/64\u001b[0m \u001b[32m━━━━━━━━━━━━━━━━━━━━\u001b[0m\u001b[37m\u001b[0m \u001b[1m105s\u001b[0m 2s/step - accuracy: 0.8922 - loss: 0.2651 - val_accuracy: 0.8516 - val_loss: 0.3148\n",
      "Epoch 10/10\n",
      "\u001b[1m64/64\u001b[0m \u001b[32m━━━━━━━━━━━━━━━━━━━━\u001b[0m\u001b[37m\u001b[0m \u001b[1m106s\u001b[0m 2s/step - accuracy: 0.8938 - loss: 0.2784 - val_accuracy: 0.8555 - val_loss: 0.3265\n",
      "Validation Accuracy: 0.85546875\n",
      "Fold 2/5\n",
      "Epoch 1/10\n",
      "\u001b[1m64/64\u001b[0m \u001b[32m━━━━━━━━━━━━━━━━━━━━\u001b[0m\u001b[37m\u001b[0m \u001b[1m172s\u001b[0m 2s/step - accuracy: 0.4059 - loss: 1.7085 - val_accuracy: 0.8457 - val_loss: 0.4693\n",
      "Epoch 2/10\n",
      "\u001b[1m64/64\u001b[0m \u001b[32m━━━━━━━━━━━━━━━━━━━━\u001b[0m\u001b[37m\u001b[0m \u001b[1m125s\u001b[0m 2s/step - accuracy: 0.7450 - loss: 0.6369 - val_accuracy: 0.8496 - val_loss: 0.4025\n",
      "Epoch 3/10\n",
      "\u001b[1m64/64\u001b[0m \u001b[32m━━━━━━━━━━━━━━━━━━━━\u001b[0m\u001b[37m\u001b[0m \u001b[1m125s\u001b[0m 2s/step - accuracy: 0.8087 - loss: 0.4994 - val_accuracy: 0.8457 - val_loss: 0.3736\n",
      "Epoch 4/10\n",
      "\u001b[1m64/64\u001b[0m \u001b[32m━━━━━━━━━━━━━━━━━━━━\u001b[0m\u001b[37m\u001b[0m \u001b[1m125s\u001b[0m 2s/step - accuracy: 0.8305 - loss: 0.4472 - val_accuracy: 0.8672 - val_loss: 0.3382\n",
      "Epoch 5/10\n",
      "\u001b[1m64/64\u001b[0m \u001b[32m━━━━━━━━━━━━━━━━━━━━\u001b[0m\u001b[37m\u001b[0m \u001b[1m127s\u001b[0m 2s/step - accuracy: 0.8486 - loss: 0.3878 - val_accuracy: 0.8613 - val_loss: 0.3270\n",
      "Epoch 6/10\n",
      "\u001b[1m64/64\u001b[0m \u001b[32m━━━━━━━━━━━━━━━━━━━━\u001b[0m\u001b[37m\u001b[0m \u001b[1m123s\u001b[0m 2s/step - accuracy: 0.8512 - loss: 0.3560 - val_accuracy: 0.8848 - val_loss: 0.2945\n",
      "Epoch 7/10\n",
      "\u001b[1m64/64\u001b[0m \u001b[32m━━━━━━━━━━━━━━━━━━━━\u001b[0m\u001b[37m\u001b[0m \u001b[1m124s\u001b[0m 2s/step - accuracy: 0.8799 - loss: 0.3100 - val_accuracy: 0.8770 - val_loss: 0.2957\n",
      "Epoch 8/10\n",
      "\u001b[1m64/64\u001b[0m \u001b[32m━━━━━━━━━━━━━━━━━━━━\u001b[0m\u001b[37m\u001b[0m \u001b[1m123s\u001b[0m 2s/step - accuracy: 0.8659 - loss: 0.3409 - val_accuracy: 0.8730 - val_loss: 0.3023\n",
      "Epoch 9/10\n",
      "\u001b[1m64/64\u001b[0m \u001b[32m━━━━━━━━━━━━━━━━━━━━\u001b[0m\u001b[37m\u001b[0m \u001b[1m124s\u001b[0m 2s/step - accuracy: 0.8801 - loss: 0.2944 - val_accuracy: 0.8828 - val_loss: 0.3068\n",
      "Epoch 10/10\n",
      "\u001b[1m64/64\u001b[0m \u001b[32m━━━━━━━━━━━━━━━━━━━━\u001b[0m\u001b[37m\u001b[0m \u001b[1m122s\u001b[0m 2s/step - accuracy: 0.9061 - loss: 0.2463 - val_accuracy: 0.8828 - val_loss: 0.2983\n",
      "Validation Accuracy: 0.8828125\n",
      "Fold 3/5\n",
      "Epoch 1/10\n",
      "\u001b[1m64/64\u001b[0m \u001b[32m━━━━━━━━━━━━━━━━━━━━\u001b[0m\u001b[37m\u001b[0m \u001b[1m129s\u001b[0m 2s/step - accuracy: 0.4396 - loss: 1.5844 - val_accuracy: 0.8066 - val_loss: 0.5103\n",
      "Epoch 2/10\n",
      "\u001b[1m64/64\u001b[0m \u001b[32m━━━━━━━━━━━━━━━━━━━━\u001b[0m\u001b[37m\u001b[0m \u001b[1m108s\u001b[0m 2s/step - accuracy: 0.7762 - loss: 0.5818 - val_accuracy: 0.8262 - val_loss: 0.4616\n",
      "Epoch 3/10\n",
      "\u001b[1m64/64\u001b[0m \u001b[32m━━━━━━━━━━━━━━━━━━━━\u001b[0m\u001b[37m\u001b[0m \u001b[1m108s\u001b[0m 2s/step - accuracy: 0.8405 - loss: 0.4326 - val_accuracy: 0.8535 - val_loss: 0.3758\n",
      "Epoch 4/10\n",
      "\u001b[1m64/64\u001b[0m \u001b[32m━━━━━━━━━━━━━━━━━━━━\u001b[0m\u001b[37m\u001b[0m \u001b[1m109s\u001b[0m 2s/step - accuracy: 0.8462 - loss: 0.4126 - val_accuracy: 0.8418 - val_loss: 0.3801\n",
      "Epoch 5/10\n",
      "\u001b[1m64/64\u001b[0m \u001b[32m━━━━━━━━━━━━━━━━━━━━\u001b[0m\u001b[37m\u001b[0m \u001b[1m109s\u001b[0m 2s/step - accuracy: 0.8619 - loss: 0.3554 - val_accuracy: 0.8496 - val_loss: 0.3918\n",
      "Epoch 6/10\n",
      "\u001b[1m64/64\u001b[0m \u001b[32m━━━━━━━━━━━━━━━━━━━━\u001b[0m\u001b[37m\u001b[0m \u001b[1m108s\u001b[0m 2s/step - accuracy: 0.8636 - loss: 0.3399 - val_accuracy: 0.8457 - val_loss: 0.3721\n",
      "Epoch 7/10\n",
      "\u001b[1m64/64\u001b[0m \u001b[32m━━━━━━━━━━━━━━━━━━━━\u001b[0m\u001b[37m\u001b[0m \u001b[1m109s\u001b[0m 2s/step - accuracy: 0.8765 - loss: 0.3230 - val_accuracy: 0.8496 - val_loss: 0.3781\n",
      "Epoch 8/10\n",
      "\u001b[1m64/64\u001b[0m \u001b[32m━━━━━━━━━━━━━━━━━━━━\u001b[0m\u001b[37m\u001b[0m \u001b[1m109s\u001b[0m 2s/step - accuracy: 0.8730 - loss: 0.3041 - val_accuracy: 0.8574 - val_loss: 0.3457\n",
      "Epoch 9/10\n",
      "\u001b[1m64/64\u001b[0m \u001b[32m━━━━━━━━━━━━━━━━━━━━\u001b[0m\u001b[37m\u001b[0m \u001b[1m108s\u001b[0m 2s/step - accuracy: 0.8825 - loss: 0.3051 - val_accuracy: 0.8652 - val_loss: 0.3459\n",
      "Epoch 10/10\n",
      "\u001b[1m64/64\u001b[0m \u001b[32m━━━━━━━━━━━━━━━━━━━━\u001b[0m\u001b[37m\u001b[0m \u001b[1m108s\u001b[0m 2s/step - accuracy: 0.9027 - loss: 0.2599 - val_accuracy: 0.8516 - val_loss: 0.3546\n",
      "Validation Accuracy: 0.8515625\n",
      "Fold 4/5\n",
      "Epoch 1/10\n",
      "\u001b[1m64/64\u001b[0m \u001b[32m━━━━━━━━━━━━━━━━━━━━\u001b[0m\u001b[37m\u001b[0m \u001b[1m132s\u001b[0m 2s/step - accuracy: 0.4131 - loss: 1.8367 - val_accuracy: 0.8066 - val_loss: 0.5150\n",
      "Epoch 2/10\n",
      "\u001b[1m64/64\u001b[0m \u001b[32m━━━━━━━━━━━━━━━━━━━━\u001b[0m\u001b[37m\u001b[0m \u001b[1m111s\u001b[0m 2s/step - accuracy: 0.7540 - loss: 0.6369 - val_accuracy: 0.8438 - val_loss: 0.3948\n",
      "Epoch 3/10\n",
      "\u001b[1m64/64\u001b[0m \u001b[32m━━━━━━━━━━━━━━━━━━━━\u001b[0m\u001b[37m\u001b[0m \u001b[1m112s\u001b[0m 2s/step - accuracy: 0.8127 - loss: 0.4922 - val_accuracy: 0.8555 - val_loss: 0.3725\n",
      "Epoch 4/10\n",
      "\u001b[1m64/64\u001b[0m \u001b[32m━━━━━━━━━━━━━━━━━━━━\u001b[0m\u001b[37m\u001b[0m \u001b[1m112s\u001b[0m 2s/step - accuracy: 0.8227 - loss: 0.4400 - val_accuracy: 0.8516 - val_loss: 0.3278\n",
      "Epoch 5/10\n",
      "\u001b[1m64/64\u001b[0m \u001b[32m━━━━━━━━━━━━━━━━━━━━\u001b[0m\u001b[37m\u001b[0m \u001b[1m113s\u001b[0m 2s/step - accuracy: 0.8513 - loss: 0.3683 - val_accuracy: 0.8730 - val_loss: 0.3253\n",
      "Epoch 6/10\n",
      "\u001b[1m64/64\u001b[0m \u001b[32m━━━━━━━━━━━━━━━━━━━━\u001b[0m\u001b[37m\u001b[0m \u001b[1m114s\u001b[0m 2s/step - accuracy: 0.8611 - loss: 0.3461 - val_accuracy: 0.8613 - val_loss: 0.3245\n",
      "Epoch 7/10\n",
      "\u001b[1m64/64\u001b[0m \u001b[32m━━━━━━━━━━━━━━━━━━━━\u001b[0m\u001b[37m\u001b[0m \u001b[1m115s\u001b[0m 2s/step - accuracy: 0.8726 - loss: 0.3539 - val_accuracy: 0.8477 - val_loss: 0.3282\n",
      "Epoch 8/10\n",
      "\u001b[1m64/64\u001b[0m \u001b[32m━━━━━━━━━━━━━━━━━━━━\u001b[0m\u001b[37m\u001b[0m \u001b[1m117s\u001b[0m 2s/step - accuracy: 0.8982 - loss: 0.2761 - val_accuracy: 0.8711 - val_loss: 0.3001\n",
      "Epoch 9/10\n",
      "\u001b[1m64/64\u001b[0m \u001b[32m━━━━━━━━━━━━━━━━━━━━\u001b[0m\u001b[37m\u001b[0m \u001b[1m114s\u001b[0m 2s/step - accuracy: 0.9033 - loss: 0.2665 - val_accuracy: 0.8633 - val_loss: 0.3098\n",
      "Epoch 10/10\n",
      "\u001b[1m64/64\u001b[0m \u001b[32m━━━━━━━━━━━━━━━━━━━━\u001b[0m\u001b[37m\u001b[0m \u001b[1m114s\u001b[0m 2s/step - accuracy: 0.8904 - loss: 0.2801 - val_accuracy: 0.8574 - val_loss: 0.3130\n",
      "Validation Accuracy: 0.857421875\n",
      "Fold 5/5\n",
      "Epoch 1/10\n",
      "\u001b[1m64/64\u001b[0m \u001b[32m━━━━━━━━━━━━━━━━━━━━\u001b[0m\u001b[37m\u001b[0m \u001b[1m141s\u001b[0m 2s/step - accuracy: 0.4282 - loss: 1.6236 - val_accuracy: 0.8359 - val_loss: 0.4955\n",
      "Epoch 2/10\n",
      "\u001b[1m64/64\u001b[0m \u001b[32m━━━━━━━━━━━━━━━━━━━━\u001b[0m\u001b[37m\u001b[0m \u001b[1m117s\u001b[0m 2s/step - accuracy: 0.7922 - loss: 0.5701 - val_accuracy: 0.8164 - val_loss: 0.4701\n",
      "Epoch 3/10\n",
      "\u001b[1m64/64\u001b[0m \u001b[32m━━━━━━━━━━━━━━━━━━━━\u001b[0m\u001b[37m\u001b[0m \u001b[1m117s\u001b[0m 2s/step - accuracy: 0.8144 - loss: 0.4623 - val_accuracy: 0.8418 - val_loss: 0.4089\n",
      "Epoch 4/10\n",
      "\u001b[1m64/64\u001b[0m \u001b[32m━━━━━━━━━━━━━━━━━━━━\u001b[0m\u001b[37m\u001b[0m \u001b[1m116s\u001b[0m 2s/step - accuracy: 0.8394 - loss: 0.4320 - val_accuracy: 0.8496 - val_loss: 0.3777\n",
      "Epoch 5/10\n",
      "\u001b[1m64/64\u001b[0m \u001b[32m━━━━━━━━━━━━━━━━━━━━\u001b[0m\u001b[37m\u001b[0m \u001b[1m116s\u001b[0m 2s/step - accuracy: 0.8448 - loss: 0.3627 - val_accuracy: 0.8555 - val_loss: 0.3503\n",
      "Epoch 6/10\n",
      "\u001b[1m64/64\u001b[0m \u001b[32m━━━━━━━━━━━━━━━━━━━━\u001b[0m\u001b[37m\u001b[0m \u001b[1m116s\u001b[0m 2s/step - accuracy: 0.8617 - loss: 0.3367 - val_accuracy: 0.8672 - val_loss: 0.3646\n",
      "Epoch 7/10\n",
      "\u001b[1m64/64\u001b[0m \u001b[32m━━━━━━━━━━━━━━━━━━━━\u001b[0m\u001b[37m\u001b[0m \u001b[1m116s\u001b[0m 2s/step - accuracy: 0.8735 - loss: 0.3084 - val_accuracy: 0.8711 - val_loss: 0.3389\n",
      "Epoch 8/10\n",
      "\u001b[1m64/64\u001b[0m \u001b[32m━━━━━━━━━━━━━━━━━━━━\u001b[0m\u001b[37m\u001b[0m \u001b[1m116s\u001b[0m 2s/step - accuracy: 0.8836 - loss: 0.3205 - val_accuracy: 0.8730 - val_loss: 0.3398\n",
      "Epoch 9/10\n",
      "\u001b[1m64/64\u001b[0m \u001b[32m━━━━━━━━━━━━━━━━━━━━\u001b[0m\u001b[37m\u001b[0m \u001b[1m116s\u001b[0m 2s/step - accuracy: 0.8909 - loss: 0.2759 - val_accuracy: 0.8711 - val_loss: 0.3515\n",
      "Epoch 10/10\n",
      "\u001b[1m64/64\u001b[0m \u001b[32m━━━━━━━━━━━━━━━━━━━━\u001b[0m\u001b[37m\u001b[0m \u001b[1m116s\u001b[0m 2s/step - accuracy: 0.9036 - loss: 0.2573 - val_accuracy: 0.8730 - val_loss: 0.3460\n",
      "Validation Accuracy: 0.873046875\n",
      "Mean Cross-Validation Accuracy: 0.8640625\n"
     ]
    }
   ],
   "source": [
    "# Define the number of classes\n",
    "num_classes = 8  # Update with the number of classes in your dataset\n",
    "\n",
    "# Perform cross-validation\n",
    "num_folds = 5\n",
    "skf = StratifiedKFold(n_splits=num_folds, shuffle=True, random_state=42)\n",
    "cv_scores = []\n",
    "\n",
    "for fold, (train_index, val_index) in enumerate(skf.split(train_data_densenet, train_labels_encoded)):\n",
    "    print(f\"Fold {fold + 1}/{num_folds}\")\n",
    "    \n",
    "    # Create ResNet50 model\n",
    "    model = create_model()\n",
    "    \n",
    "    # Compile the model\n",
    "    model.compile(optimizer=Adam(learning_rate=0.001),\n",
    "                  loss='sparse_categorical_crossentropy',\n",
    "                  metrics=['accuracy'])\n",
    "    \n",
    "    # Train the model\n",
    "    history = model.fit(train_data_densenet[train_index], train_labels_encoded[train_index], epochs=10, batch_size=32, validation_data=(train_data_densenet[val_index], train_labels_encoded[val_index]), verbose=1)\n",
    "    \n",
    "    # Evaluate the model on validation data\n",
    "    val_loss, val_acc = model.evaluate(train_data_densenet[val_index], train_labels_encoded[val_index], verbose=0)\n",
    "    print(f\"Validation Accuracy: {val_acc}\")\n",
    "    cv_scores.append(val_acc)\n",
    "\n",
    "# Calculate and print the mean cross-validation score\n",
    "mean_cv_score = np.mean(cv_scores)\n",
    "print(f\"Mean Cross-Validation Accuracy: {mean_cv_score}\")"
   ]
  },
  {
   "cell_type": "code",
   "execution_count": 20,
   "id": "a29e644f-225d-4c7b-ade1-04db0bdf65a7",
   "metadata": {},
   "outputs": [
    {
     "name": "stdout",
     "output_type": "stream",
     "text": [
      "\u001b[1m25/25\u001b[0m \u001b[32m━━━━━━━━━━━━━━━━━━━━\u001b[0m\u001b[37m\u001b[0m \u001b[1m40s\u001b[0m 1s/step\n"
     ]
    },
    {
     "data": {
      "text/plain": [
       "<Figure size 800x800 with 0 Axes>"
      ]
     },
     "metadata": {},
     "output_type": "display_data"
    },
    {
     "data": {
      "image/png": "[encoded data removed]",
      "text/plain": [
       "<Figure size 640x480 with 2 Axes>"
      ]
     },
     "metadata": {},
     "output_type": "display_data"
    }
   ],
   "source": [
    "# Generate confusion matrix\n",
    "predictions = model.predict(test_data_densenet)\n",
    "predicted_labels = np.argmax(predictions, axis=1)\n",
    "\n",
    "cm = confusion_matrix(test_labels_encoded, predicted_labels)\n",
    "classes = [str(i) for i in range(8)]  # Assuming you have 8 classes\n",
    "\n",
    "# Plot confusion matrix\n",
    "plt.figure(figsize=(8, 8))\n",
    "disp = ConfusionMatrixDisplay(confusion_matrix=cm, display_labels=classes)\n",
    "disp.plot(cmap=plt.cm.Blues)\n",
    "plt.title('Confusion Matrix')\n",
    "plt.show()"
   ]
  },
  {
   "cell_type": "code",
   "execution_count": null,
   "id": "5611f580-4691-4264-b468-7edc282061b1",
   "metadata": {},
   "outputs": [],
   "source": []
  }
 ],
 "metadata": {
  "kernelspec": {
   "display_name": "Python 3 (ipykernel)",
   "language": "python",
   "name": "python3"
  },
  "language_info": {
   "codemirror_mode": {
    "name": "ipython",
    "version": 3
   },
   "file_extension": ".py",
   "mimetype": "text/x-python",
   "name": "python",
   "nbconvert_exporter": "python",
   "pygments_lexer": "ipython3",
   "version": "3.11.7"
  }
 },
 "nbformat": 4,
 "nbformat_minor": 5
}
