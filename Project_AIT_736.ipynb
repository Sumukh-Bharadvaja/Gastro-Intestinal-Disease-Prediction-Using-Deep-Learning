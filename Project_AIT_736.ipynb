{
  "cells": [
    {
      "cell_type": "code",
      "execution_count": 28,
      "metadata": {
        "id": "6bqbTz1hSbdM"
      },
      "outputs": [],
      "source": [
        "import plotly.express as px\n",
        "import numpy as np # linear algebra\n",
        "import pandas as pd # data processing, CSV file I/O (e.g. pd.read_csv)\n",
        "import os\n",
        "import cv2 # For image operations\n",
        "import random # for shuffling\n",
        "from matplotlib import pyplot as plt, cm\n",
        "import seaborn as sns\n",
        "from pathlib import Path\n",
        "from tqdm import tqdm\n",
        "from sklearn.model_selection import train_test_split\n",
        "import tensorflow as tf\n",
        "from tensorflow import keras\n",
        "from tensorflow.keras import layers\n",
        "from tensorflow.keras.utils import to_categorical\n",
        "from sklearn.metrics import recall_score, precision_score, f1_score, accuracy_score"
      ]
    },
    {
      "cell_type": "code",
      "execution_count": null,
      "metadata": {
        "id": "iBbumeKESbdP"
      },
      "outputs": [],
      "source": [
        "!pip install -q kaggle\n",
        "\n",
        "%%capture\n",
        "!pip install imblearn # install imblearn library for data balancing"
      ]
    },
    {
      "cell_type": "code",
      "source": [
        "from google.colab import files\n",
        "uploaded = files.upload()"
      ],
      "metadata": {
        "colab": {
          "base_uri": "https://localhost:8080/",
          "height": 73
        },
        "id": "uIBNEKRQWkjv",
        "outputId": "0f992e8c-d7c0-4f86-98b4-be0c176229ca"
      },
      "execution_count": null,
      "outputs": [
        {
          "output_type": "display_data",
          "data": {
            "text/plain": [
              "<IPython.core.display.HTML object>"
            ],
            "text/html": [
              "\n",
              "     <input type=\"file\" id=\"files-7392c6f1-7892-4047-81f8-b2e6dde3722e\" name=\"files[]\" multiple disabled\n",
              "        style=\"border:none\" />\n",
              "     <output id=\"result-7392c6f1-7892-4047-81f8-b2e6dde3722e\">\n",
              "      Upload widget is only available when the cell has been executed in the\n",
              "      current browser session. Please rerun this cell to enable.\n",
              "      </output>\n",
              "      <script>// Copyright 2017 Google LLC\n",
              "//\n",
              "// Licensed under the Apache License, Version 2.0 (the \"License\");\n",
              "// you may not use this file except in compliance with the License.\n",
              "// You may obtain a copy of the License at\n",
              "//\n",
              "//      http://www.apache.org/licenses/LICENSE-2.0\n",
              "//\n",
              "// Unless required by applicable law or agreed to in writing, software\n",
              "// distributed under the License is distributed on an \"AS IS\" BASIS,\n",
              "// WITHOUT WARRANTIES OR CONDITIONS OF ANY KIND, either express or implied.\n",
              "// See the License for the specific language governing permissions and\n",
              "// limitations under the License.\n",
              "\n",
              "/**\n",
              " * @fileoverview Helpers for google.colab Python module.\n",
              " */\n",
              "(function(scope) {\n",
              "function span(text, styleAttributes = {}) {\n",
              "  const element = document.createElement('span');\n",
              "  element.textContent = text;\n",
              "  for (const key of Object.keys(styleAttributes)) {\n",
              "    element.style[key] = styleAttributes[key];\n",
              "  }\n",
              "  return element;\n",
              "}\n",
              "\n",
              "// Max number of bytes which will be uploaded at a time.\n",
              "const MAX_PAYLOAD_SIZE = 100 * 1024;\n",
              "\n",
              "function _uploadFiles(inputId, outputId) {\n",
              "  const steps = uploadFilesStep(inputId, outputId);\n",
              "  const outputElement = document.getElementById(outputId);\n",
              "  // Cache steps on the outputElement to make it available for the next call\n",
              "  // to uploadFilesContinue from Python.\n",
              "  outputElement.steps = steps;\n",
              "\n",
              "  return _uploadFilesContinue(outputId);\n",
              "}\n",
              "\n",
              "// This is roughly an async generator (not supported in the browser yet),\n",
              "// where there are multiple asynchronous steps and the Python side is going\n",
              "// to poll for completion of each step.\n",
              "// This uses a Promise to block the python side on completion of each step,\n",
              "// then passes the result of the previous step as the input to the next step.\n",
              "function _uploadFilesContinue(outputId) {\n",
              "  const outputElement = document.getElementById(outputId);\n",
              "  const steps = outputElement.steps;\n",
              "\n",
              "  const next = steps.next(outputElement.lastPromiseValue);\n",
              "  return Promise.resolve(next.value.promise).then((value) => {\n",
              "    // Cache the last promise value to make it available to the next\n",
              "    // step of the generator.\n",
              "    outputElement.lastPromiseValue = value;\n",
              "    return next.value.response;\n",
              "  });\n",
              "}\n",
              "\n",
              "/**\n",
              " * Generator function which is called between each async step of the upload\n",
              " * process.\n",
              " * @param {string} inputId Element ID of the input file picker element.\n",
              " * @param {string} outputId Element ID of the output display.\n",
              " * @return {!Iterable<!Object>} Iterable of next steps.\n",
              " */\n",
              "function* uploadFilesStep(inputId, outputId) {\n",
              "  const inputElement = document.getElementById(inputId);\n",
              "  inputElement.disabled = false;\n",
              "\n",
              "  const outputElement = document.getElementById(outputId);\n",
              "  outputElement.innerHTML = '';\n",
              "\n",
              "  const pickedPromise = new Promise((resolve) => {\n",
              "    inputElement.addEventListener('change', (e) => {\n",
              "      resolve(e.target.files);\n",
              "    });\n",
              "  });\n",
              "\n",
              "  const cancel = document.createElement('button');\n",
              "  inputElement.parentElement.appendChild(cancel);\n",
              "  cancel.textContent = 'Cancel upload';\n",
              "  const cancelPromise = new Promise((resolve) => {\n",
              "    cancel.onclick = () => {\n",
              "      resolve(null);\n",
              "    };\n",
              "  });\n",
              "\n",
              "  // Wait for the user to pick the files.\n",
              "  const files = yield {\n",
              "    promise: Promise.race([pickedPromise, cancelPromise]),\n",
              "    response: {\n",
              "      action: 'starting',\n",
              "    }\n",
              "  };\n",
              "\n",
              "  cancel.remove();\n",
              "\n",
              "  // Disable the input element since further picks are not allowed.\n",
              "  inputElement.disabled = true;\n",
              "\n",
              "  if (!files) {\n",
              "    return {\n",
              "      response: {\n",
              "        action: 'complete',\n",
              "      }\n",
              "    };\n",
              "  }\n",
              "\n",
              "  for (const file of files) {\n",
              "    const li = document.createElement('li');\n",
              "    li.append(span(file.name, {fontWeight: 'bold'}));\n",
              "    li.append(span(\n",
              "        `(${file.type || 'n/a'}) - ${file.size} bytes, ` +\n",
              "        `last modified: ${\n",
              "            file.lastModifiedDate ? file.lastModifiedDate.toLocaleDateString() :\n",
              "                                    'n/a'} - `));\n",
              "    const percent = span('0% done');\n",
              "    li.appendChild(percent);\n",
              "\n",
              "    outputElement.appendChild(li);\n",
              "\n",
              "    const fileDataPromise = new Promise((resolve) => {\n",
              "      const reader = new FileReader();\n",
              "      reader.onload = (e) => {\n",
              "        resolve(e.target.result);\n",
              "      };\n",
              "      reader.readAsArrayBuffer(file);\n",
              "    });\n",
              "    // Wait for the data to be ready.\n",
              "    let fileData = yield {\n",
              "      promise: fileDataPromise,\n",
              "      response: {\n",
              "        action: 'continue',\n",
              "      }\n",
              "    };\n",
              "\n",
              "    // Use a chunked sending to avoid message size limits. See b/62115660.\n",
              "    let position = 0;\n",
              "    do {\n",
              "      const length = Math.min(fileData.byteLength - position, MAX_PAYLOAD_SIZE);\n",
              "      const chunk = new Uint8Array(fileData, position, length);\n",
              "      position += length;\n",
              "\n",
              "      const base64 = btoa(String.fromCharCode.apply(null, chunk));\n",
              "      yield {\n",
              "        response: {\n",
              "          action: 'append',\n",
              "          file: file.name,\n",
              "          data: base64,\n",
              "        },\n",
              "      };\n",
              "\n",
              "      let percentDone = fileData.byteLength === 0 ?\n",
              "          100 :\n",
              "          Math.round((position / fileData.byteLength) * 100);\n",
              "      percent.textContent = `${percentDone}% done`;\n",
              "\n",
              "    } while (position < fileData.byteLength);\n",
              "  }\n",
              "\n",
              "  // All done.\n",
              "  yield {\n",
              "    response: {\n",
              "      action: 'complete',\n",
              "    }\n",
              "  };\n",
              "}\n",
              "\n",
              "scope.google = scope.google || {};\n",
              "scope.google.colab = scope.google.colab || {};\n",
              "scope.google.colab._files = {\n",
              "  _uploadFiles,\n",
              "  _uploadFilesContinue,\n",
              "};\n",
              "})(self);\n",
              "</script> "
            ]
          },
          "metadata": {}
        },
        {
          "output_type": "stream",
          "name": "stdout",
          "text": [
            "Saving kaggle.json to kaggle (1).json\n"
          ]
        }
      ]
    },
    {
      "cell_type": "code",
      "source": [
        "!mkdir -p ~/.kaggle\n",
        "!mv kaggle.json ~/.kaggle/\n",
        "!chmod 600 ~/.kaggle/kaggle.json"
      ],
      "metadata": {
        "id": "YwBE9arTWtkp"
      },
      "execution_count": null,
      "outputs": []
    },
    {
      "cell_type": "code",
      "source": [
        "!kaggle datasets download -d meetnagadia/kvasir-dataset  # Download the dataset\n",
        "!unzip -q kvasir-dataset.zip -d dataset"
      ],
      "metadata": {
        "colab": {
          "base_uri": "https://localhost:8080/"
        },
        "id": "fRKBoZRrWw3e",
        "outputId": "5a8aca20-a758-4a8b-dd4d-9aefc67ea880"
      },
      "execution_count": null,
      "outputs": [
        {
          "output_type": "stream",
          "name": "stdout",
          "text": [
            "Downloading kvasir-dataset.zip to /content\n",
            "100% 1.15G/1.15G [00:12<00:00, 144MB/s]\n",
            "100% 1.15G/1.15G [00:12<00:00, 96.3MB/s]\n"
          ]
        }
      ]
    },
    {
      "cell_type": "code",
      "source": [
        "dataset_path = 'dataset/kvasir-dataset'\n",
        "classes = ['dyed-lifted-polyps', 'dyed-resection-margins', 'esophagitis',\n",
        "           'normal-cecum', 'normal-pylorus', 'normal-z-line', 'polyps', 'ulcerative-colitis']"
      ],
      "metadata": {
        "id": "R9ainS4FeCwi"
      },
      "execution_count": 15,
      "outputs": []
    },
    {
      "cell_type": "code",
      "source": [
        "class_images = {class_name: [] for class_name in classes}"
      ],
      "metadata": {
        "id": "DDbM8VhLW1Jh"
      },
      "execution_count": 16,
      "outputs": []
    },
    {
      "cell_type": "code",
      "source": [
        "def load_images_from_folder(class_name, n=400, image_size=(150, 150)):\n",
        "    folder_path = os.path.join(dataset_path, class_name)\n",
        "    images = []\n",
        "    # Get the list of image file names\n",
        "    filenames = [os.path.join(folder_path, filename) for filename in os.listdir(folder_path)]\n",
        "    # Load the images\n",
        "    for filename in tqdm(filenames[:n], desc=f'Loading {class_name}'):\n",
        "        img = cv2.imread(filename, cv2.IMREAD_GRAYSCALE)\n",
        "        img = cv2.resize(img, image_size)\n",
        "        img = img / 255.0  # Normalizing the image\n",
        "        images.append(img.flatten())  # Flatten and append to the list\n",
        "    return images"
      ],
      "metadata": {
        "id": "INzkZ7Xadwsq"
      },
      "execution_count": 17,
      "outputs": []
    },
    {
      "cell_type": "code",
      "source": [
        "for class_name in classes:\n",
        "    class_images[class_name] = load_images_from_folder(class_name)"
      ],
      "metadata": {
        "id": "rHUhcr0Gd0Kb",
        "outputId": "65edd6e4-844d-4d83-a2ad-af0faf64f9b4",
        "colab": {
          "base_uri": "https://localhost:8080/"
        }
      },
      "execution_count": 18,
      "outputs": [
        {
          "output_type": "stream",
          "name": "stderr",
          "text": [
            "Loading dyed-lifted-polyps: 100%|██████████| 400/400 [00:02<00:00, 186.51it/s]\n",
            "Loading dyed-resection-margins: 100%|██████████| 400/400 [00:02<00:00, 135.39it/s]\n",
            "Loading esophagitis: 100%|██████████| 400/400 [00:05<00:00, 66.81it/s]\n",
            "Loading normal-cecum: 100%|██████████| 400/400 [00:02<00:00, 192.86it/s]\n",
            "Loading normal-pylorus: 100%|██████████| 400/400 [00:07<00:00, 54.99it/s]\n",
            "Loading normal-z-line: 100%|██████████| 400/400 [00:05<00:00, 69.97it/s]\n",
            "Loading polyps: 100%|██████████| 400/400 [00:02<00:00, 145.39it/s]\n",
            "Loading ulcerative-colitis: 100%|██████████| 400/400 [00:02<00:00, 176.26it/s]\n"
          ]
        }
      ]
    },
    {
      "cell_type": "code",
      "source": [
        "dyed_lifted_polyps = class_images['dyed-lifted-polyps']"
      ],
      "metadata": {
        "id": "xPAF4zSxd3fX"
      },
      "execution_count": 19,
      "outputs": []
    },
    {
      "cell_type": "code",
      "source": [
        "len(dyed_lifted_polyps)"
      ],
      "metadata": {
        "id": "7C4ZKx6SekKm",
        "outputId": "76446ffd-01c3-4aea-f2fb-3e8cc4af32c9",
        "colab": {
          "base_uri": "https://localhost:8080/"
        }
      },
      "execution_count": 22,
      "outputs": [
        {
          "output_type": "execute_result",
          "data": {
            "text/plain": [
              "400"
            ]
          },
          "metadata": {},
          "execution_count": 22
        }
      ]
    },
    {
      "cell_type": "markdown",
      "source": [
        "Each Class has 400 images loaded. Now defining each class into unique variable"
      ],
      "metadata": {
        "id": "Nn1iX9wieuXI"
      }
    },
    {
      "cell_type": "code",
      "source": [
        "dyed_resection_margins = class_images['dyed-resection-margins']\n",
        "esophagitis=class_images['esophagitis']\n",
        "normal_cecum=class_images['normal-cecum']\n",
        "normal_pylorus=class_images['normal-pylorus']\n",
        "normal_z_line=class_images['normal-z-line']\n",
        "polyps=class_images['polyps']\n",
        "ulcerative_colitis=class_images['ulcerative-colitis']"
      ],
      "metadata": {
        "id": "Pq5V7AF7emMe"
      },
      "execution_count": 24,
      "outputs": []
    },
    {
      "cell_type": "code",
      "source": [
        "df = pd.DataFrame({\n",
        "    'dataset': ['dyed_lifted_polyps', 'dyed_resection_margins', 'esophagitis', 'normal_cecum', 'normal_pylorus', 'normal_z_line', 'polyps', 'ulcerative_colitis'],\n",
        "    'count_of_images': [len(dyed_lifted_polyps), len(dyed_resection_margins), len(esophagitis), len(normal_cecum), len(normal_pylorus), len(normal_z_line), len(polyps), len(ulcerative_colitis)]})"
      ],
      "metadata": {
        "id": "EaeIxtJlf8iz"
      },
      "execution_count": 25,
      "outputs": []
    },
    {
      "cell_type": "code",
      "source": [
        "color = sns.color_palette('pastel')\n",
        "plt.pie(df['count_of_images'], labels = df.dataset, colors = color, autopct='%.0f%%')\n",
        "\n",
        "print(df)\n",
        "plt.show()"
      ],
      "metadata": {
        "id": "eBecn0SdgnWv",
        "outputId": "07b62cf7-7294-49c8-8c0d-aadbc1a966b2",
        "colab": {
          "base_uri": "https://localhost:8080/",
          "height": 562
        }
      },
      "execution_count": 26,
      "outputs": [
        {
          "output_type": "stream",
          "name": "stdout",
          "text": [
            "                  dataset  count_of_images\n",
            "0      dyed_lifted_polyps              400\n",
            "1  dyed_resection_margins              400\n",
            "2             esophagitis              400\n",
            "3            normal_cecum              400\n",
            "4          normal_pylorus              400\n",
            "5           normal_z_line              400\n",
            "6                  polyps              400\n",
            "7      ulcerative_colitis              400\n"
          ]
        },
        {
          "output_type": "display_data",
          "data": {
            "text/plain": [
              "<Figure size 640x480 with 1 Axes>"
            ],
            "image/png": "[encoded data removed]"
          },
          "metadata": {}
        }
      ]
    },
    {
      "cell_type": "code",
      "source": [],
      "metadata": {
        "id": "VH4xKumWgqit"
      },
      "execution_count": null,
      "outputs": []
    }
  ],
  "metadata": {
    "kernelspec": {
      "display_name": "base",
      "language": "python",
      "name": "python3"
    },
    "language_info": {
      "codemirror_mode": {
        "name": "ipython",
        "version": 3
      },
      "file_extension": ".py",
      "mimetype": "text/x-python",
      "name": "python",
      "nbconvert_exporter": "python",
      "pygments_lexer": "ipython3",
      "version": "3.10.9"
    },
    "colab": {
      "provenance": []
    }
  },
  "nbformat": 4,
  "nbformat_minor": 0
}