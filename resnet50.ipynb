{
 "cells": [
  {
   "cell_type": "code",
   "execution_count": 36,
   "id": "4e6e0db6-8290-4a74-b55a-ac730ea1cd97",
   "metadata": {},
   "outputs": [],
   "source": [
    "import os \n",
    "import pathlib\n",
    "import numpy as np\n",
    "import pandas as pd\n",
    "import matplotlib.pyplot as plt\n",
    "import seaborn as sns\n",
    "import cv2\n",
    "from sklearn.metrics import confusion_matrix, ConfusionMatrixDisplay\n",
    "from sklearn.model_selection import train_test_split\n",
    "from sklearn.preprocessing import LabelEncoder\n",
    "from tensorflow.keras.utils import to_categorical\n",
    "from tensorflow.keras.applications import VGG16\n",
    "from tensorflow.keras.models import Sequential\n",
    "from tensorflow.keras.layers import Dense, Flatten, Dropout\n",
    "from tensorflow.keras.models import Model\n",
    "from tensorflow.keras.optimizers import Adam\n",
    "from sklearn.model_selection import StratifiedKFold\n",
    "from tensorflow.keras.applications.vgg16 import preprocess_input as vgg16_preprocess_input\n",
    "from tensorflow.keras.applications.vgg19 import preprocess_input as vgg19_preprocess_input\n",
    "from tensorflow.keras.applications.resnet import preprocess_input as resnet_preprocess_input\n",
    "from tensorflow.keras.applications.densenet import preprocess_input as densenet_preprocess_input\n",
    "from tensorflow.keras.applications.mobilenet import preprocess_input as mobilenet_preprocess_input"
   ]
  },
  {
   "cell_type": "code",
   "execution_count": 2,
   "id": "68b4c771-55d4-4bb7-b7d6-debd29efa044",
   "metadata": {},
   "outputs": [],
   "source": [
    "# Load and preprocess the data\n",
    "def load_and_preprocess_data(data):\n",
    "    images = []\n",
    "    labels = []\n",
    "    for label, image_paths in data.items():\n",
    "        for path in image_paths:\n",
    "            img = cv2.imread(str(path))\n",
    "            img = cv2.cvtColor(img, cv2.COLOR_BGR2RGB)  # Convert image to RGB format\n",
    "            img = cv2.resize(img, (224, 224))  # Resize image to VGG16 input size\n",
    "            images.append(img)\n",
    "            labels.append(label)\n",
    "    images = np.array(images)\n",
    "    labels = np.array(labels)\n",
    "    return images, labels"
   ]
  },
  {
   "cell_type": "code",
   "execution_count": 3,
   "id": "b021dd60-50be-4f47-8b5e-635f73f97462",
   "metadata": {},
   "outputs": [],
   "source": [
    "# Load data\n",
    "path = pathlib.Path(r\"C:\\Users\\akshi\\OneDrive\\Desktop\\gmu\\ait 736\\mid project\\kvasir-dataset\\kvasir-dataset\")"
   ]
  },
  {
   "cell_type": "code",
   "execution_count": 4,
   "id": "84fb9aef-4880-4d2b-a198-c91e822f457c",
   "metadata": {},
   "outputs": [],
   "source": [
    "dyed_ifted_polyps = list(path.glob('dyed-lifted-polyps/*'))\n",
    "dyed_resection_margins = list(path.glob('dyed-resection-margins/*'))\n",
    "esophagitis = list(path.glob('esophagitis/*'))\n",
    "normal_cecum = list(path.glob('normal-cecum/*'))\n",
    "normal_pylorus = list(path.glob('normal-pylorus/*'))\n",
    "normal_z_line = list(path.glob('normal-z-line/*'))\n",
    "polyps = list(path.glob('polyps/*'))\n",
    "ulcerative_colitis = list(path.glob('ulcerative-colitis/*'))"
   ]
  },
  {
   "cell_type": "code",
   "execution_count": 5,
   "id": "c7a0295e-a59d-4c75-987e-81ba12f9fbe7",
   "metadata": {},
   "outputs": [],
   "source": [
    "data = {\n",
    "    'dyed-lifted-polyps' : dyed_ifted_polyps ,\n",
    "    'dyed-resection-margins' : dyed_resection_margins,\n",
    "    'esophagitis' : esophagitis,\n",
    "    'normal-cecum' : normal_cecum,\n",
    "    'normal-pylorus' : normal_pylorus,\n",
    "    'normal-z-line' : normal_z_line,\n",
    "    'polyps' : polyps,\n",
    "    'ulcerative-colitis' : ulcerative_colitis\n",
    "}\n",
    "\n",
    "polys_labels = {\n",
    "    0:'dyed-lifted-polyps',\n",
    "    1:'dyed-resection-margins',\n",
    "    2:'esophagitis',\n",
    "    3:'normal-cecum',\n",
    "    4:'normal-pylorus',\n",
    "    5:'normal-z-line',\n",
    "    6:'polyps',\n",
    "    7:'ulcerative-colitis'\n",
    "}"
   ]
  },
  {
   "cell_type": "code",
   "execution_count": 6,
   "id": "78aff1f2-24ca-425c-b3f0-9567ef6a1b9c",
   "metadata": {},
   "outputs": [],
   "source": [
    "images, labels = load_and_preprocess_data(data)"
   ]
  },
  {
   "cell_type": "code",
   "execution_count": 7,
   "id": "daac79d3-c1aa-4679-94f6-79e09e8ce894",
   "metadata": {},
   "outputs": [],
   "source": [
    "# Split the data into training, validation, and testing sets\n",
    "train_data, test_data, train_labels, test_labels = train_test_split(images, labels, test_size=0.2, random_state=42)\n",
    "train_data, val_data, train_labels, val_labels = train_test_split(train_data, train_labels, test_size=0.2, random_state=42)"
   ]
  },
  {
   "cell_type": "code",
   "execution_count": 13,
   "id": "fb8e0eed-dbf1-4236-896d-09a679fc75fe",
   "metadata": {},
   "outputs": [],
   "source": [
    "train_data_res = resnet_preprocess_input(train_data)\n",
    "val_data_res = resnet_preprocess_input(val_data)\n",
    "test_data_res = resnet_preprocess_input(test_data)"
   ]
  },
  {
   "cell_type": "code",
   "execution_count": 14,
   "id": "febddf66-0405-4f7c-ad7c-138d5d9ddc67",
   "metadata": {},
   "outputs": [],
   "source": [
    "# Convert string labels to numerical labels\n",
    "label_encoder = LabelEncoder()\n",
    "train_labels_encoded = label_encoder.fit_transform(train_labels)\n",
    "val_labels_encoded = label_encoder.transform(val_labels)\n",
    "test_labels_encoded = label_encoder.transform(test_labels)"
   ]
  },
  {
   "cell_type": "code",
   "execution_count": 15,
   "id": "e42a7e68-b080-4ddc-9994-dd09071130bf",
   "metadata": {},
   "outputs": [],
   "source": [
    "from keras.applications import ResNet50"
   ]
  },
  {
   "cell_type": "code",
   "execution_count": 16,
   "id": "f1803938-2aa8-4783-b717-e4471ef44651",
   "metadata": {},
   "outputs": [],
   "source": [
    "# Load the ResNet50 model\n",
    "base_model = ResNet50(weights='imagenet', include_top=False, input_shape=(224, 224, 3))\n",
    "\n",
    "# Freeze the base model layers\n",
    "base_model.trainable = False\n",
    "\n",
    "# Create the model\n",
    "model_res = Sequential([\n",
    "    base_model,\n",
    "    Flatten(),\n",
    "    Dense(256, activation='relu'),\n",
    "    Dropout(0.5),\n",
    "    Dense(8, activation='softmax')  # Adjust the output units based on the number of classes\n",
    "])"
   ]
  },
  {
   "cell_type": "code",
   "execution_count": 17,
   "id": "0ed2fc2a-e15e-4d90-ba38-8715c0952d24",
   "metadata": {},
   "outputs": [
    {
     "name": "stdout",
     "output_type": "stream",
     "text": [
      "Epoch 1/10\n",
      "\u001b[1m80/80\u001b[0m \u001b[32m━━━━━━━━━━━━━━━━━━━━\u001b[0m\u001b[37m\u001b[0m \u001b[1m177s\u001b[0m 2s/step - accuracy: 0.5022 - loss: 19.6549 - val_accuracy: 0.7922 - val_loss: 0.5646\n",
      "Epoch 2/10\n",
      "\u001b[1m80/80\u001b[0m \u001b[32m━━━━━━━━━━━━━━━━━━━━\u001b[0m\u001b[37m\u001b[0m \u001b[1m148s\u001b[0m 2s/step - accuracy: 0.7143 - loss: 0.8144 - val_accuracy: 0.7312 - val_loss: 0.4993\n",
      "Epoch 3/10\n",
      "\u001b[1m80/80\u001b[0m \u001b[32m━━━━━━━━━━━━━━━━━━━━\u001b[0m\u001b[37m\u001b[0m \u001b[1m148s\u001b[0m 2s/step - accuracy: 0.7554 - loss: 0.6237 - val_accuracy: 0.7766 - val_loss: 0.5205\n",
      "Epoch 4/10\n",
      "\u001b[1m80/80\u001b[0m \u001b[32m━━━━━━━━━━━━━━━━━━━━\u001b[0m\u001b[37m\u001b[0m \u001b[1m149s\u001b[0m 2s/step - accuracy: 0.7824 - loss: 0.5737 - val_accuracy: 0.8250 - val_loss: 0.4661\n",
      "Epoch 5/10\n",
      "\u001b[1m80/80\u001b[0m \u001b[32m━━━━━━━━━━━━━━━━━━━━\u001b[0m\u001b[37m\u001b[0m \u001b[1m142s\u001b[0m 2s/step - accuracy: 0.7946 - loss: 0.4542 - val_accuracy: 0.8484 - val_loss: 0.3682\n",
      "Epoch 6/10\n",
      "\u001b[1m80/80\u001b[0m \u001b[32m━━━━━━━━━━━━━━━━━━━━\u001b[0m\u001b[37m\u001b[0m \u001b[1m150s\u001b[0m 2s/step - accuracy: 0.8315 - loss: 0.4150 - val_accuracy: 0.8453 - val_loss: 0.3850\n",
      "Epoch 7/10\n",
      "\u001b[1m80/80\u001b[0m \u001b[32m━━━━━━━━━━━━━━━━━━━━\u001b[0m\u001b[37m\u001b[0m \u001b[1m144s\u001b[0m 2s/step - accuracy: 0.8388 - loss: 0.4434 - val_accuracy: 0.8500 - val_loss: 0.4081\n",
      "Epoch 8/10\n",
      "\u001b[1m80/80\u001b[0m \u001b[32m━━━━━━━━━━━━━━━━━━━━\u001b[0m\u001b[37m\u001b[0m \u001b[1m147s\u001b[0m 2s/step - accuracy: 0.8369 - loss: 0.4129 - val_accuracy: 0.8484 - val_loss: 0.5302\n",
      "Epoch 9/10\n",
      "\u001b[1m80/80\u001b[0m \u001b[32m━━━━━━━━━━━━━━━━━━━━\u001b[0m\u001b[37m\u001b[0m \u001b[1m131s\u001b[0m 2s/step - accuracy: 0.8583 - loss: 0.4047 - val_accuracy: 0.8578 - val_loss: 0.5069\n",
      "Epoch 10/10\n",
      "\u001b[1m80/80\u001b[0m \u001b[32m━━━━━━━━━━━━━━━━━━━━\u001b[0m\u001b[37m\u001b[0m \u001b[1m133s\u001b[0m 2s/step - accuracy: 0.8623 - loss: 0.3612 - val_accuracy: 0.8359 - val_loss: 0.5246\n"
     ]
    }
   ],
   "source": [
    "# Compile the model\n",
    "model_res.compile(optimizer=Adam(learning_rate=0.001), loss='sparse_categorical_crossentropy', metrics=['accuracy'])\n",
    "\n",
    "# Train the model\n",
    "history_res = model_res.fit(train_data_res, train_labels_encoded, epochs=10, batch_size=32, validation_data=(val_data_res, val_labels_encoded))"
   ]
  },
  {
   "cell_type": "code",
   "execution_count": 18,
   "id": "a8b8d07c-52b6-4222-8b89-ae3f1409c520",
   "metadata": {},
   "outputs": [
    {
     "name": "stdout",
     "output_type": "stream",
     "text": [
      "\u001b[1m25/25\u001b[0m \u001b[32m━━━━━━━━━━━━━━━━━━━━\u001b[0m\u001b[37m\u001b[0m \u001b[1m38s\u001b[0m 1s/step - accuracy: 0.8275 - loss: 0.7113\n",
      "Test Accuracy: 0.8187500238418579\n"
     ]
    }
   ],
   "source": [
    "# Evaluate the model\n",
    "test_loss, test_acc = model_res.evaluate(test_data_res, test_labels_encoded)\n",
    "print(f'Test Accuracy: {test_acc}')"
   ]
  },
  {
   "cell_type": "code",
   "execution_count": 38,
   "id": "7b81d59b-0114-4d9c-bf33-75bba56e7031",
   "metadata": {},
   "outputs": [
    {
     "name": "stdout",
     "output_type": "stream",
     "text": [
      "Fold 1/5\n",
      "Epoch 1/10\n",
      "\u001b[1m64/64\u001b[0m \u001b[32m━━━━━━━━━━━━━━━━━━━━\u001b[0m\u001b[37m\u001b[0m \u001b[1m140s\u001b[0m 2s/step - accuracy: 0.5093 - loss: 17.5845 - val_accuracy: 0.7637 - val_loss: 0.5740\n",
      "Epoch 2/10\n",
      "\u001b[1m64/64\u001b[0m \u001b[32m━━━━━━━━━━━━━━━━━━━━\u001b[0m\u001b[37m\u001b[0m \u001b[1m114s\u001b[0m 2s/step - accuracy: 0.7138 - loss: 0.8942 - val_accuracy: 0.8125 - val_loss: 0.5466\n",
      "Epoch 3/10\n",
      "\u001b[1m64/64\u001b[0m \u001b[32m━━━━━━━━━━━━━━━━━━━━\u001b[0m\u001b[37m\u001b[0m \u001b[1m120s\u001b[0m 2s/step - accuracy: 0.7696 - loss: 0.6808 - val_accuracy: 0.8105 - val_loss: 0.7125\n",
      "Epoch 4/10\n",
      "\u001b[1m64/64\u001b[0m \u001b[32m━━━━━━━━━━━━━━━━━━━━\u001b[0m\u001b[37m\u001b[0m \u001b[1m122s\u001b[0m 2s/step - accuracy: 0.7805 - loss: 0.6125 - val_accuracy: 0.8418 - val_loss: 0.4478\n",
      "Epoch 5/10\n",
      "\u001b[1m64/64\u001b[0m \u001b[32m━━━━━━━━━━━━━━━━━━━━\u001b[0m\u001b[37m\u001b[0m \u001b[1m113s\u001b[0m 2s/step - accuracy: 0.8082 - loss: 0.4842 - val_accuracy: 0.8320 - val_loss: 0.4524\n",
      "Epoch 6/10\n",
      "\u001b[1m64/64\u001b[0m \u001b[32m━━━━━━━━━━━━━━━━━━━━\u001b[0m\u001b[37m\u001b[0m \u001b[1m115s\u001b[0m 2s/step - accuracy: 0.8417 - loss: 0.4482 - val_accuracy: 0.8477 - val_loss: 0.4654\n",
      "Epoch 7/10\n",
      "\u001b[1m64/64\u001b[0m \u001b[32m━━━━━━━━━━━━━━━━━━━━\u001b[0m\u001b[37m\u001b[0m \u001b[1m186s\u001b[0m 3s/step - accuracy: 0.8555 - loss: 0.4257 - val_accuracy: 0.8301 - val_loss: 0.4277\n",
      "Epoch 8/10\n",
      "\u001b[1m64/64\u001b[0m \u001b[32m━━━━━━━━━━━━━━━━━━━━\u001b[0m\u001b[37m\u001b[0m \u001b[1m112s\u001b[0m 2s/step - accuracy: 0.8529 - loss: 0.4129 - val_accuracy: 0.8223 - val_loss: 0.5305\n",
      "Epoch 9/10\n",
      "\u001b[1m64/64\u001b[0m \u001b[32m━━━━━━━━━━━━━━━━━━━━\u001b[0m\u001b[37m\u001b[0m \u001b[1m113s\u001b[0m 2s/step - accuracy: 0.8532 - loss: 0.3916 - val_accuracy: 0.8516 - val_loss: 0.5097\n",
      "Epoch 10/10\n",
      "\u001b[1m64/64\u001b[0m \u001b[32m━━━━━━━━━━━━━━━━━━━━\u001b[0m\u001b[37m\u001b[0m \u001b[1m111s\u001b[0m 2s/step - accuracy: 0.8569 - loss: 0.3844 - val_accuracy: 0.8477 - val_loss: 0.5311\n",
      "Validation Accuracy: 0.84765625\n",
      "Fold 2/5\n",
      "Epoch 1/10\n",
      "\u001b[1m64/64\u001b[0m \u001b[32m━━━━━━━━━━━━━━━━━━━━\u001b[0m\u001b[37m\u001b[0m \u001b[1m125s\u001b[0m 2s/step - accuracy: 0.4751 - loss: 21.4604 - val_accuracy: 0.7422 - val_loss: 0.7206\n",
      "Epoch 2/10\n",
      "\u001b[1m64/64\u001b[0m \u001b[32m━━━━━━━━━━━━━━━━━━━━\u001b[0m\u001b[37m\u001b[0m \u001b[1m136s\u001b[0m 2s/step - accuracy: 0.6464 - loss: 0.9078 - val_accuracy: 0.8379 - val_loss: 0.4879\n",
      "Epoch 3/10\n",
      "\u001b[1m64/64\u001b[0m \u001b[32m━━━━━━━━━━━━━━━━━━━━\u001b[0m\u001b[37m\u001b[0m \u001b[1m121s\u001b[0m 2s/step - accuracy: 0.7241 - loss: 0.7128 - val_accuracy: 0.8184 - val_loss: 0.5406\n",
      "Epoch 4/10\n",
      "\u001b[1m64/64\u001b[0m \u001b[32m━━━━━━━━━━━━━━━━━━━━\u001b[0m\u001b[37m\u001b[0m \u001b[1m122s\u001b[0m 2s/step - accuracy: 0.7033 - loss: 0.7475 - val_accuracy: 0.8301 - val_loss: 0.4481\n",
      "Epoch 5/10\n",
      "\u001b[1m64/64\u001b[0m \u001b[32m━━━━━━━━━━━━━━━━━━━━\u001b[0m\u001b[37m\u001b[0m \u001b[1m121s\u001b[0m 2s/step - accuracy: 0.7571 - loss: 0.6338 - val_accuracy: 0.8281 - val_loss: 0.4365\n",
      "Epoch 6/10\n",
      "\u001b[1m64/64\u001b[0m \u001b[32m━━━━━━━━━━━━━━━━━━━━\u001b[0m\u001b[37m\u001b[0m \u001b[1m123s\u001b[0m 2s/step - accuracy: 0.7479 - loss: 0.6190 - val_accuracy: 0.8613 - val_loss: 0.4734\n",
      "Epoch 7/10\n",
      "\u001b[1m64/64\u001b[0m \u001b[32m━━━━━━━━━━━━━━━━━━━━\u001b[0m\u001b[37m\u001b[0m \u001b[1m297s\u001b[0m 5s/step - accuracy: 0.7750 - loss: 0.5779 - val_accuracy: 0.8652 - val_loss: 0.4333\n",
      "Epoch 8/10\n",
      "\u001b[1m64/64\u001b[0m \u001b[32m━━━━━━━━━━━━━━━━━━━━\u001b[0m\u001b[37m\u001b[0m \u001b[1m120s\u001b[0m 2s/step - accuracy: 0.8057 - loss: 0.4986 - val_accuracy: 0.8555 - val_loss: 0.4921\n",
      "Epoch 9/10\n",
      "\u001b[1m64/64\u001b[0m \u001b[32m━━━━━━━━━━━━━━━━━━━━\u001b[0m\u001b[37m\u001b[0m \u001b[1m120s\u001b[0m 2s/step - accuracy: 0.7982 - loss: 0.5547 - val_accuracy: 0.8535 - val_loss: 0.5143\n",
      "Epoch 10/10\n",
      "\u001b[1m64/64\u001b[0m \u001b[32m━━━━━━━━━━━━━━━━━━━━\u001b[0m\u001b[37m\u001b[0m \u001b[1m122s\u001b[0m 2s/step - accuracy: 0.8014 - loss: 0.5105 - val_accuracy: 0.8164 - val_loss: 0.5217\n",
      "Validation Accuracy: 0.81640625\n",
      "Fold 3/5\n",
      "Epoch 1/10\n",
      "\u001b[1m64/64\u001b[0m \u001b[32m━━━━━━━━━━━━━━━━━━━━\u001b[0m\u001b[37m\u001b[0m \u001b[1m139s\u001b[0m 2s/step - accuracy: 0.5519 - loss: 16.7009 - val_accuracy: 0.7559 - val_loss: 0.7060\n",
      "Epoch 2/10\n",
      "\u001b[1m64/64\u001b[0m \u001b[32m━━━━━━━━━━━━━━━━━━━━\u001b[0m\u001b[37m\u001b[0m \u001b[1m116s\u001b[0m 2s/step - accuracy: 0.7506 - loss: 0.8286 - val_accuracy: 0.8164 - val_loss: 0.5212\n",
      "Epoch 3/10\n",
      "\u001b[1m64/64\u001b[0m \u001b[32m━━━━━━━━━━━━━━━━━━━━\u001b[0m\u001b[37m\u001b[0m \u001b[1m115s\u001b[0m 2s/step - accuracy: 0.7977 - loss: 0.5663 - val_accuracy: 0.7988 - val_loss: 0.5758\n",
      "Epoch 4/10\n",
      "\u001b[1m64/64\u001b[0m \u001b[32m━━━━━━━━━━━━━━━━━━━━\u001b[0m\u001b[37m\u001b[0m \u001b[1m116s\u001b[0m 2s/step - accuracy: 0.8151 - loss: 0.5398 - val_accuracy: 0.7949 - val_loss: 0.5007\n",
      "Epoch 5/10\n",
      "\u001b[1m64/64\u001b[0m \u001b[32m━━━━━━━━━━━━━━━━━━━━\u001b[0m\u001b[37m\u001b[0m \u001b[1m113s\u001b[0m 2s/step - accuracy: 0.8114 - loss: 0.5258 - val_accuracy: 0.8223 - val_loss: 0.5968\n",
      "Epoch 6/10\n",
      "\u001b[1m64/64\u001b[0m \u001b[32m━━━━━━━━━━━━━━━━━━━━\u001b[0m\u001b[37m\u001b[0m \u001b[1m115s\u001b[0m 2s/step - accuracy: 0.8458 - loss: 0.4304 - val_accuracy: 0.8555 - val_loss: 0.4146\n",
      "Epoch 7/10\n",
      "\u001b[1m64/64\u001b[0m \u001b[32m━━━━━━━━━━━━━━━━━━━━\u001b[0m\u001b[37m\u001b[0m \u001b[1m120s\u001b[0m 2s/step - accuracy: 0.8596 - loss: 0.3588 - val_accuracy: 0.8145 - val_loss: 0.5151\n",
      "Epoch 8/10\n",
      "\u001b[1m64/64\u001b[0m \u001b[32m━━━━━━━━━━━━━━━━━━━━\u001b[0m\u001b[37m\u001b[0m \u001b[1m117s\u001b[0m 2s/step - accuracy: 0.8354 - loss: 0.5139 - val_accuracy: 0.8242 - val_loss: 0.5070\n",
      "Epoch 9/10\n",
      "\u001b[1m64/64\u001b[0m \u001b[32m━━━━━━━━━━━━━━━━━━━━\u001b[0m\u001b[37m\u001b[0m \u001b[1m117s\u001b[0m 2s/step - accuracy: 0.8739 - loss: 0.4307 - val_accuracy: 0.8418 - val_loss: 0.4478\n",
      "Epoch 10/10\n",
      "\u001b[1m64/64\u001b[0m \u001b[32m━━━━━━━━━━━━━━━━━━━━\u001b[0m\u001b[37m\u001b[0m \u001b[1m119s\u001b[0m 2s/step - accuracy: 0.8789 - loss: 0.3611 - val_accuracy: 0.8496 - val_loss: 0.4333\n",
      "Validation Accuracy: 0.849609375\n",
      "Fold 4/5\n",
      "Epoch 1/10\n",
      "\u001b[1m64/64\u001b[0m \u001b[32m━━━━━━━━━━━━━━━━━━━━\u001b[0m\u001b[37m\u001b[0m \u001b[1m139s\u001b[0m 2s/step - accuracy: 0.4872 - loss: 20.7937 - val_accuracy: 0.7988 - val_loss: 0.6703\n",
      "Epoch 2/10\n",
      "\u001b[1m64/64\u001b[0m \u001b[32m━━━━━━━━━━━━━━━━━━━━\u001b[0m\u001b[37m\u001b[0m \u001b[1m117s\u001b[0m 2s/step - accuracy: 0.6975 - loss: 0.9189 - val_accuracy: 0.8164 - val_loss: 0.4692\n",
      "Epoch 3/10\n",
      "\u001b[1m64/64\u001b[0m \u001b[32m━━━━━━━━━━━━━━━━━━━━\u001b[0m\u001b[37m\u001b[0m \u001b[1m118s\u001b[0m 2s/step - accuracy: 0.7712 - loss: 0.6474 - val_accuracy: 0.8262 - val_loss: 0.5078\n",
      "Epoch 4/10\n",
      "\u001b[1m64/64\u001b[0m \u001b[32m━━━━━━━━━━━━━━━━━━━━\u001b[0m\u001b[37m\u001b[0m \u001b[1m115s\u001b[0m 2s/step - accuracy: 0.7788 - loss: 0.5958 - val_accuracy: 0.8164 - val_loss: 0.5067\n",
      "Epoch 5/10\n",
      "\u001b[1m64/64\u001b[0m \u001b[32m━━━━━━━━━━━━━━━━━━━━\u001b[0m\u001b[37m\u001b[0m \u001b[1m115s\u001b[0m 2s/step - accuracy: 0.7811 - loss: 0.6479 - val_accuracy: 0.8008 - val_loss: 0.5268\n",
      "Epoch 6/10\n",
      "\u001b[1m64/64\u001b[0m \u001b[32m━━━━━━━━━━━━━━━━━━━━\u001b[0m\u001b[37m\u001b[0m \u001b[1m115s\u001b[0m 2s/step - accuracy: 0.8102 - loss: 0.5841 - val_accuracy: 0.8145 - val_loss: 0.6001\n",
      "Epoch 7/10\n",
      "\u001b[1m64/64\u001b[0m \u001b[32m━━━━━━━━━━━━━━━━━━━━\u001b[0m\u001b[37m\u001b[0m \u001b[1m116s\u001b[0m 2s/step - accuracy: 0.8162 - loss: 0.4977 - val_accuracy: 0.8438 - val_loss: 0.4807\n",
      "Epoch 8/10\n",
      "\u001b[1m64/64\u001b[0m \u001b[32m━━━━━━━━━━━━━━━━━━━━\u001b[0m\u001b[37m\u001b[0m \u001b[1m117s\u001b[0m 2s/step - accuracy: 0.8176 - loss: 0.4863 - val_accuracy: 0.8555 - val_loss: 0.6197\n",
      "Epoch 9/10\n",
      "\u001b[1m64/64\u001b[0m \u001b[32m━━━━━━━━━━━━━━━━━━━━\u001b[0m\u001b[37m\u001b[0m \u001b[1m115s\u001b[0m 2s/step - accuracy: 0.8403 - loss: 0.5022 - val_accuracy: 0.8320 - val_loss: 0.5131\n",
      "Epoch 10/10\n",
      "\u001b[1m64/64\u001b[0m \u001b[32m━━━━━━━━━━━━━━━━━━━━\u001b[0m\u001b[37m\u001b[0m \u001b[1m114s\u001b[0m 2s/step - accuracy: 0.8313 - loss: 0.5078 - val_accuracy: 0.8535 - val_loss: 0.5585\n",
      "Validation Accuracy: 0.853515625\n",
      "Fold 5/5\n",
      "Epoch 1/10\n",
      "\u001b[1m64/64\u001b[0m \u001b[32m━━━━━━━━━━━━━━━━━━━━\u001b[0m\u001b[37m\u001b[0m \u001b[1m140s\u001b[0m 2s/step - accuracy: 0.5216 - loss: 16.1531 - val_accuracy: 0.7480 - val_loss: 0.6305\n",
      "Epoch 2/10\n",
      "\u001b[1m64/64\u001b[0m \u001b[32m━━━━━━━━━━━━━━━━━━━━\u001b[0m\u001b[37m\u001b[0m \u001b[1m116s\u001b[0m 2s/step - accuracy: 0.6937 - loss: 0.8609 - val_accuracy: 0.8066 - val_loss: 0.5112\n",
      "Epoch 3/10\n",
      "\u001b[1m64/64\u001b[0m \u001b[32m━━━━━━━━━━━━━━━━━━━━\u001b[0m\u001b[37m\u001b[0m \u001b[1m115s\u001b[0m 2s/step - accuracy: 0.7997 - loss: 0.5331 - val_accuracy: 0.8105 - val_loss: 0.4946\n",
      "Epoch 4/10\n",
      "\u001b[1m64/64\u001b[0m \u001b[32m━━━━━━━━━━━━━━━━━━━━\u001b[0m\u001b[37m\u001b[0m \u001b[1m116s\u001b[0m 2s/step - accuracy: 0.7828 - loss: 0.5338 - val_accuracy: 0.8516 - val_loss: 0.5201\n",
      "Epoch 5/10\n",
      "\u001b[1m64/64\u001b[0m \u001b[32m━━━━━━━━━━━━━━━━━━━━\u001b[0m\u001b[37m\u001b[0m \u001b[1m116s\u001b[0m 2s/step - accuracy: 0.8136 - loss: 0.5081 - val_accuracy: 0.7988 - val_loss: 0.6454\n",
      "Epoch 6/10\n",
      "\u001b[1m64/64\u001b[0m \u001b[32m━━━━━━━━━━━━━━━━━━━━\u001b[0m\u001b[37m\u001b[0m \u001b[1m118s\u001b[0m 2s/step - accuracy: 0.8283 - loss: 0.5779 - val_accuracy: 0.8047 - val_loss: 0.6214\n",
      "Epoch 7/10\n",
      "\u001b[1m64/64\u001b[0m \u001b[32m━━━━━━━━━━━━━━━━━━━━\u001b[0m\u001b[37m\u001b[0m \u001b[1m120s\u001b[0m 2s/step - accuracy: 0.8136 - loss: 0.4870 - val_accuracy: 0.8496 - val_loss: 0.4498\n",
      "Epoch 8/10\n",
      "\u001b[1m64/64\u001b[0m \u001b[32m━━━━━━━━━━━━━━━━━━━━\u001b[0m\u001b[37m\u001b[0m \u001b[1m116s\u001b[0m 2s/step - accuracy: 0.8349 - loss: 0.4114 - val_accuracy: 0.8633 - val_loss: 0.4819\n",
      "Epoch 9/10\n",
      "\u001b[1m64/64\u001b[0m \u001b[32m━━━━━━━━━━━━━━━━━━━━\u001b[0m\u001b[37m\u001b[0m \u001b[1m121s\u001b[0m 2s/step - accuracy: 0.8456 - loss: 0.4175 - val_accuracy: 0.8242 - val_loss: 0.6791\n",
      "Epoch 10/10\n",
      "\u001b[1m64/64\u001b[0m \u001b[32m━━━━━━━━━━━━━━━━━━━━\u001b[0m\u001b[37m\u001b[0m \u001b[1m122s\u001b[0m 2s/step - accuracy: 0.8329 - loss: 0.4955 - val_accuracy: 0.8633 - val_loss: 0.5408\n",
      "Validation Accuracy: 0.86328125\n",
      "Mean Cross-Validation Accuracy: 0.84609375\n"
     ]
    }
   ],
   "source": [
    "# Define the number of classes\n",
    "num_classes = 8  # Update with the number of classes in your dataset\n",
    "\n",
    "# Define a function to create the ResNet50 model\n",
    "def create_resnet_model():\n",
    "    model = Sequential([\n",
    "        base_model,\n",
    "        Flatten(),\n",
    "        Dense(256, activation='relu'),\n",
    "        Dropout(0.5),\n",
    "        Dense(num_classes, activation='softmax')\n",
    "    ])\n",
    "    return model\n",
    "\n",
    "# Perform cross-validation\n",
    "num_folds = 5\n",
    "skf = StratifiedKFold(n_splits=num_folds, shuffle=True, random_state=42)\n",
    "cv_scores = []\n",
    "\n",
    "for fold, (train_index, val_index) in enumerate(skf.split(train_data_res, train_labels_encoded)):\n",
    "    print(f\"Fold {fold + 1}/{num_folds}\")\n",
    "    \n",
    "    # Create ResNet50 model\n",
    "    model = create_resnet_model()\n",
    "    \n",
    "    # Compile the model\n",
    "    model.compile(optimizer=Adam(learning_rate=0.001),\n",
    "                  loss='sparse_categorical_crossentropy',\n",
    "                  metrics=['accuracy'])\n",
    "    \n",
    "    # Train the model\n",
    "    history = model.fit(train_data_res[train_index], train_labels_encoded[train_index], epochs=10, batch_size=32, validation_data=(train_data_res[val_index], train_labels_encoded[val_index]), verbose=1)\n",
    "    \n",
    "    # Evaluate the model on validation data\n",
    "    val_loss, val_acc = model.evaluate(train_data_res[val_index], train_labels_encoded[val_index], verbose=0)\n",
    "    print(f\"Validation Accuracy: {val_acc}\")\n",
    "    cv_scores.append(val_acc)\n",
    "\n",
    "# Calculate and print the mean cross-validation score\n",
    "mean_cv_score = np.mean(cv_scores)\n",
    "print(f\"Mean Cross-Validation Accuracy: {mean_cv_score}\")"
   ]
  },
  {
   "cell_type": "code",
   "execution_count": 40,
   "id": "038d56d1-b81d-4453-ac84-c8f4715bd18f",
   "metadata": {},
   "outputs": [
    {
     "name": "stdout",
     "output_type": "stream",
     "text": [
      "\u001b[1m25/25\u001b[0m \u001b[32m━━━━━━━━━━━━━━━━━━━━\u001b[0m\u001b[37m\u001b[0m \u001b[1m38s\u001b[0m 1s/step - accuracy: 0.8541 - loss: 0.5398\n",
      "Test Loss: 0.5961833596229553\n",
      "Test Accuracy: 0.8550000190734863\n"
     ]
    }
   ],
   "source": [
    "# Evaluate the model on the test set\n",
    "test_loss, test_accuracy = model.evaluate(test_data_res, test_labels_encoded)\n",
    "\n",
    "print(f'Test Loss: {test_loss}')\n",
    "print(f'Test Accuracy: {test_accuracy}')"
   ]
  },
  {
   "cell_type": "code",
   "execution_count": 42,
   "id": "66792c72-9096-40d0-8fa7-8d2d25293508",
   "metadata": {},
   "outputs": [
    {
     "data": {
      "image/png": "[encoded data removed]",
      "text/plain": [
       "<Figure size 640x480 with 1 Axes>"
      ]
     },
     "metadata": {},
     "output_type": "display_data"
    }
   ],
   "source": [
    "# Plotting learning curves\n",
    "plt.plot(history_res.history['accuracy'], label='train_accuracy')\n",
    "plt.plot(history_res.history['val_accuracy'], label='val_accuracy')\n",
    "plt.plot(history_res.history['loss'], label='train_loss')\n",
    "plt.plot(history_res.history['val_loss'], label='val_loss')\n",
    "plt.xlabel('Epochs')\n",
    "plt.ylabel('Metrics')\n",
    "plt.title('Training and Validation Metrics')\n",
    "plt.legend()\n",
    "plt.show()"
   ]
  },
  {
   "cell_type": "code",
   "execution_count": 45,
   "id": "9a6b9f75-23de-4416-9f8b-f3eb9cf336dc",
   "metadata": {},
   "outputs": [
    {
     "name": "stdout",
     "output_type": "stream",
     "text": [
      "\u001b[1m25/25\u001b[0m \u001b[32m━━━━━━━━━━━━━━━━━━━━\u001b[0m\u001b[37m\u001b[0m \u001b[1m34s\u001b[0m 1s/step\n"
     ]
    },
    {
     "data": {
      "text/plain": [
       "<Figure size 800x800 with 0 Axes>"
      ]
     },
     "metadata": {},
     "output_type": "display_data"
    },
    {
     "data": {
      "image/png": "[encoded data removed]",
      "text/plain": [
       "<Figure size 640x480 with 2 Axes>"
      ]
     },
     "metadata": {},
     "output_type": "display_data"
    }
   ],
   "source": [
    "# Generate confusion matrix\n",
    "predictions = model_res.predict(test_data_res)\n",
    "predicted_labels = np.argmax(predictions, axis=1)\n",
    "\n",
    "cm = confusion_matrix(test_labels_encoded, predicted_labels)\n",
    "classes = [str(i) for i in range(8)]  # Assuming you have 8 classes\n",
    "\n",
    "# Plot confusion matrix\n",
    "plt.figure(figsize=(8, 8))\n",
    "disp = ConfusionMatrixDisplay(confusion_matrix=cm, display_labels=classes)\n",
    "disp.plot(cmap=plt.cm.Blues)\n",
    "plt.title('Confusion Matrix')\n",
    "plt.show()"
   ]
  },
  {
   "cell_type": "code",
   "execution_count": null,
   "id": "96c5812e-63da-413e-b398-80ce9173e59d",
   "metadata": {},
   "outputs": [],
   "source": []
  }
 ],
 "metadata": {
  "kernelspec": {
   "display_name": "Python 3 (ipykernel)",
   "language": "python",
   "name": "python3"
  },
  "language_info": {
   "codemirror_mode": {
    "name": "ipython",
    "version": 3
   },
   "file_extension": ".py",
   "mimetype": "text/x-python",
   "name": "python",
   "nbconvert_exporter": "python",
   "pygments_lexer": "ipython3",
   "version": "3.11.7"
  }
 },
 "nbformat": 4,
 "nbformat_minor": 5
}
