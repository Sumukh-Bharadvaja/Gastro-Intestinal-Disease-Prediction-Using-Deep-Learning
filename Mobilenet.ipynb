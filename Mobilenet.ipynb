{
 "cells": [
  {
   "cell_type": "code",
   "execution_count": 1,
   "metadata": {},
   "outputs": [
    {
     "name": "stdout",
     "output_type": "stream",
     "text": [
      "WARNING:tensorflow:From c:\\Users\\sumuk\\anaconda3\\lib\\site-packages\\keras\\src\\losses.py:2976: The name tf.losses.sparse_softmax_cross_entropy is deprecated. Please use tf.compat.v1.losses.sparse_softmax_cross_entropy instead.\n",
      "\n"
     ]
    }
   ],
   "source": [
    "import plotly.express as px\n",
    "import numpy as np # linear algebra\n",
    "import pandas as pd # data processing, CSV file I/O (e.g. pd.read_csv)\n",
    "import os\n",
    "import cv2 # For image operations\n",
    "import random # for shuffling\n",
    "from matplotlib import pyplot as plt, cm\n",
    "import seaborn as sns\n",
    "from pathlib import Path\n",
    "from tqdm import tqdm\n",
    "from sklearn.model_selection import train_test_split\n",
    "import tensorflow as tf\n",
    "from tensorflow import keras\n",
    "from tensorflow.keras import layers\n",
    "from tensorflow.keras.utils import to_categorical\n",
    "from sklearn.metrics import recall_score, precision_score, f1_score, accuracy_score\n",
    "\n",
    "from tensorflow.keras.applications import MobileNet\n",
    "from tensorflow.keras.models import Sequential\n",
    "from tensorflow.keras.layers import Dense, GlobalAveragePooling2D, Dropout\n",
    "from tensorflow.keras.optimizers import Adam"
   ]
  },
  {
   "cell_type": "code",
   "execution_count": 2,
   "metadata": {},
   "outputs": [],
   "source": [
    "dataset_path = 'kvasir-dataset'\n",
    "classes = ['dyed-lifted-polyps', 'dyed-resection-margins', 'esophagitis',\n",
    "           'normal-cecum', 'normal-pylorus', 'normal-z-line', 'polyps', 'ulcerative-colitis']"
   ]
  },
  {
   "cell_type": "code",
   "execution_count": 3,
   "metadata": {},
   "outputs": [],
   "source": [
    "class_images = {class_name: [] for class_name in classes}"
   ]
  },
  {
   "cell_type": "code",
   "execution_count": 4,
   "metadata": {},
   "outputs": [],
   "source": [
    "def load_images_from_folder(class_name, n=500, image_size=(224, 224)):\n",
    "    folder_path = os.path.join(dataset_path, class_name)\n",
    "    images = []\n",
    "    # Get the list of image file names\n",
    "    filenames = [os.path.join(folder_path, filename) for filename in os.listdir(folder_path)]\n",
    "    # Load the images\n",
    "    for filename in tqdm(filenames[:n], desc=f'Loading {class_name}'):\n",
    "        img = cv2.imread(filename)  # By default, OpenCV reads images in BGR format\n",
    "        img = cv2.cvtColor(img, cv2.COLOR_BGR2RGB)  # Convert to RGB format\n",
    "        img = cv2.resize(img, image_size)\n",
    "        img = img / 255.0  # Normalizing the image\n",
    "        images.append(img)  # Do not flatten\n",
    "    return images"
   ]
  },
  {
   "cell_type": "code",
   "execution_count": 5,
   "metadata": {},
   "outputs": [
    {
     "name": "stderr",
     "output_type": "stream",
     "text": [
      "Loading dyed-lifted-polyps: 100%|██████████| 500/500 [00:04<00:00, 110.05it/s]\n",
      "Loading dyed-resection-margins: 100%|██████████| 500/500 [00:04<00:00, 115.67it/s]\n",
      "Loading esophagitis: 100%|██████████| 500/500 [00:12<00:00, 41.13it/s]\n",
      "Loading normal-cecum: 100%|██████████| 500/500 [00:04<00:00, 111.75it/s]\n",
      "Loading normal-pylorus: 100%|██████████| 500/500 [00:14<00:00, 35.66it/s]\n",
      "Loading normal-z-line: 100%|██████████| 500/500 [00:11<00:00, 43.00it/s]\n",
      "Loading polyps: 100%|██████████| 500/500 [00:04<00:00, 103.62it/s]\n",
      "Loading ulcerative-colitis: 100%|██████████| 500/500 [00:04<00:00, 116.14it/s]\n"
     ]
    }
   ],
   "source": [
    "for class_name in classes:\n",
    "    class_images[class_name] = load_images_from_folder(class_name)"
   ]
  },
  {
   "cell_type": "code",
   "execution_count": 6,
   "metadata": {},
   "outputs": [],
   "source": [
    "dyed_lifted_polyps = class_images['dyed-lifted-polyps']\n",
    "dyed_resection_margins = class_images['dyed-resection-margins']\n",
    "esophagitis=class_images['esophagitis']\n",
    "normal_cecum=class_images['normal-cecum']\n",
    "normal_pylorus=class_images['normal-pylorus']\n",
    "normal_z_line=class_images['normal-z-line']\n",
    "polyps=class_images['polyps']\n",
    "ulcerative_colitis=class_images['ulcerative-colitis']"
   ]
  },
  {
   "cell_type": "code",
   "execution_count": 7,
   "metadata": {},
   "outputs": [],
   "source": [
    "np.random.seed(150) # Random seed to control the randomness of generated values\n",
    "data = np.array(dyed_lifted_polyps + dyed_resection_margins + esophagitis + normal_cecum  + normal_pylorus + normal_z_line + polyps + ulcerative_colitis)  # Combining the list of images\n",
    "labels = np.array([0]*500 + [1]*500 +[2]*500 +[3]*500 +[4]*500 +[5]*500 +[6]*500 +[7]*500) # creating class labels for the image classes\n",
    "length = data.shape[0] # length of the data\n",
    "\n",
    "# Shuffling the data and labels\n",
    "indx = np.arange(length)\n",
    "np.random.shuffle(indx)\n",
    "\n",
    "data = data[indx]\n",
    "labels = labels[indx]\n"
   ]
  },
  {
   "cell_type": "code",
   "execution_count": 8,
   "metadata": {},
   "outputs": [],
   "source": [
    "X_train, X_test, y_train, y_test = train_test_split(data, labels, random_state=150, test_size=0.3, stratify=labels, shuffle=True)"
   ]
  },
  {
   "cell_type": "code",
   "execution_count": 19,
   "metadata": {},
   "outputs": [],
   "source": [
    "y_train= to_categorical(y_train, num_classes=8)\n",
    "y_test = to_categorical(y_test, num_classes=8)"
   ]
  },
  {
   "cell_type": "code",
   "execution_count": 20,
   "metadata": {},
   "outputs": [
    {
     "data": {
      "text/plain": [
       "array([[0., 0., 0., ..., 0., 0., 0.],\n",
       "       [0., 0., 0., ..., 0., 1., 0.],\n",
       "       [0., 0., 0., ..., 0., 0., 0.],\n",
       "       ...,\n",
       "       [0., 0., 0., ..., 0., 0., 0.],\n",
       "       [1., 0., 0., ..., 0., 0., 0.],\n",
       "       [1., 0., 0., ..., 0., 0., 0.]], dtype=float32)"
      ]
     },
     "execution_count": 20,
     "metadata": {},
     "output_type": "execute_result"
    }
   ],
   "source": [
    "y_train"
   ]
  },
  {
   "cell_type": "code",
   "execution_count": 21,
   "metadata": {},
   "outputs": [],
   "source": [
    "base_model = MobileNet(weights='imagenet', include_top=False, input_shape=(224, 224, 3))\n",
    "\n",
    "# Freeze the layers in the base model\n",
    "for layer in base_model.layers:\n",
    "    layer.trainable = False"
   ]
  },
  {
   "cell_type": "code",
   "execution_count": 22,
   "metadata": {},
   "outputs": [],
   "source": [
    "number_of_classes = 8\n",
    "\n",
    "# Create the model\n",
    "model_mobileNet = Sequential([\n",
    "    base_model,\n",
    "    GlobalAveragePooling2D(),\n",
    "    Dense(256, activation='relu'),\n",
    "    Dropout(0.5),\n",
    "    Dense(number_of_classes, activation='softmax')  # Final layer with softmax activation for 'n' classes\n",
    "])"
   ]
  },
  {
   "cell_type": "code",
   "execution_count": 23,
   "metadata": {},
   "outputs": [
    {
     "name": "stdout",
     "output_type": "stream",
     "text": [
      "Model: \"sequential_2\"\n",
      "_________________________________________________________________\n",
      " Layer (type)                Output Shape              Param #   \n",
      "=================================================================\n",
      " mobilenet_1.00_224 (Functi  (None, 7, 7, 1024)        3228864   \n",
      " onal)                                                           \n",
      "                                                                 \n",
      " global_average_pooling2d_2  (None, 1024)              0         \n",
      "  (GlobalAveragePooling2D)                                       \n",
      "                                                                 \n",
      " dense_4 (Dense)             (None, 256)               262400    \n",
      "                                                                 \n",
      " dropout_2 (Dropout)         (None, 256)               0         \n",
      "                                                                 \n",
      " dense_5 (Dense)             (None, 8)                 2056      \n",
      "                                                                 \n",
      "=================================================================\n",
      "Total params: 3493320 (13.33 MB)\n",
      "Trainable params: 264456 (1.01 MB)\n",
      "Non-trainable params: 3228864 (12.32 MB)\n",
      "_________________________________________________________________\n"
     ]
    }
   ],
   "source": [
    "model_mobileNet.summary()"
   ]
  },
  {
   "cell_type": "code",
   "execution_count": 24,
   "metadata": {},
   "outputs": [
    {
     "name": "stderr",
     "output_type": "stream",
     "text": [
      "WARNING:absl:`lr` is deprecated in Keras optimizer, please use `learning_rate` or use the legacy optimizer, e.g.,tf.keras.optimizers.legacy.Adam.\n"
     ]
    }
   ],
   "source": [
    "model_mobileNet.compile(optimizer=Adam(lr=1e-5),\n",
    "                        loss='categorical_crossentropy',\n",
    "                        metrics=['accuracy'])"
   ]
  },
  {
   "cell_type": "code",
   "execution_count": 25,
   "metadata": {},
   "outputs": [
    {
     "name": "stdout",
     "output_type": "stream",
     "text": [
      "Epoch 1/10\n",
      "WARNING:tensorflow:From c:\\Users\\sumuk\\anaconda3\\lib\\site-packages\\keras\\src\\utils\\tf_utils.py:492: The name tf.ragged.RaggedTensorValue is deprecated. Please use tf.compat.v1.ragged.RaggedTensorValue instead.\n",
      "\n"
     ]
    },
    {
     "name": "stderr",
     "output_type": "stream",
     "text": [
      "WARNING:tensorflow:From c:\\Users\\sumuk\\anaconda3\\lib\\site-packages\\keras\\src\\utils\\tf_utils.py:492: The name tf.ragged.RaggedTensorValue is deprecated. Please use tf.compat.v1.ragged.RaggedTensorValue instead.\n",
      "\n"
     ]
    },
    {
     "name": "stdout",
     "output_type": "stream",
     "text": [
      "WARNING:tensorflow:From c:\\Users\\sumuk\\anaconda3\\lib\\site-packages\\keras\\src\\engine\\base_layer_utils.py:384: The name tf.executing_eagerly_outside_functions is deprecated. Please use tf.compat.v1.executing_eagerly_outside_functions instead.\n",
      "\n"
     ]
    },
    {
     "name": "stderr",
     "output_type": "stream",
     "text": [
      "WARNING:tensorflow:From c:\\Users\\sumuk\\anaconda3\\lib\\site-packages\\keras\\src\\engine\\base_layer_utils.py:384: The name tf.executing_eagerly_outside_functions is deprecated. Please use tf.compat.v1.executing_eagerly_outside_functions instead.\n",
      "\n"
     ]
    },
    {
     "name": "stdout",
     "output_type": "stream",
     "text": [
      "88/88 [==============================] - 43s 466ms/step - loss: 0.8912 - accuracy: 0.6621 - val_loss: 0.4924 - val_accuracy: 0.8300\n",
      "Epoch 2/10\n",
      "88/88 [==============================] - 37s 427ms/step - loss: 0.4571 - accuracy: 0.8186 - val_loss: 0.4134 - val_accuracy: 0.8292\n",
      "Epoch 3/10\n",
      "88/88 [==============================] - 31s 352ms/step - loss: 0.3645 - accuracy: 0.8539 - val_loss: 0.3306 - val_accuracy: 0.8725\n",
      "Epoch 4/10\n",
      "88/88 [==============================] - 31s 355ms/step - loss: 0.3339 - accuracy: 0.8654 - val_loss: 0.3527 - val_accuracy: 0.8675\n",
      "Epoch 5/10\n",
      "88/88 [==============================] - 31s 354ms/step - loss: 0.2881 - accuracy: 0.8864 - val_loss: 0.3184 - val_accuracy: 0.8767\n",
      "Epoch 6/10\n",
      "88/88 [==============================] - 33s 375ms/step - loss: 0.2440 - accuracy: 0.9079 - val_loss: 0.3148 - val_accuracy: 0.8800\n",
      "Epoch 7/10\n",
      "88/88 [==============================] - 34s 392ms/step - loss: 0.2348 - accuracy: 0.9093 - val_loss: 0.3042 - val_accuracy: 0.8775\n",
      "Epoch 8/10\n",
      "88/88 [==============================] - 36s 408ms/step - loss: 0.2244 - accuracy: 0.9132 - val_loss: 0.3248 - val_accuracy: 0.8650\n",
      "Epoch 9/10\n",
      "88/88 [==============================] - 36s 407ms/step - loss: 0.1835 - accuracy: 0.9300 - val_loss: 0.3151 - val_accuracy: 0.8800\n",
      "Epoch 10/10\n",
      "88/88 [==============================] - 36s 408ms/step - loss: 0.1794 - accuracy: 0.9261 - val_loss: 0.3149 - val_accuracy: 0.8767\n"
     ]
    }
   ],
   "source": [
    "history_mobileNet = model_mobileNet.fit(X_train, y_train,\n",
    "                                        batch_size=32,\n",
    "                                        epochs=10,  # Adjust number of epochs as necessary\n",
    "                                        validation_data=(X_test, y_test))\n",
    "\n"
   ]
  },
  {
   "cell_type": "code",
   "execution_count": 26,
   "metadata": {},
   "outputs": [
    {
     "name": "stdout",
     "output_type": "stream",
     "text": [
      "38/38 [==============================] - 11s 275ms/step - loss: 0.3149 - accuracy: 0.8767\n",
      "Test Accuracy: 0.8766666650772095\n"
     ]
    }
   ],
   "source": [
    "test_loss, test_accuracy = model_mobileNet.evaluate(X_test, y_test)\n",
    "print(f'Test Accuracy: {test_accuracy}')"
   ]
  },
  {
   "cell_type": "code",
   "execution_count": 29,
   "metadata": {},
   "outputs": [
    {
     "data": {
      "image/png": "[encoded data removed]",
      "text/plain": [
       "<Figure size 1000x400 with 2 Axes>"
      ]
     },
     "metadata": {},
     "output_type": "display_data"
    }
   ],
   "source": [
    "plt.figure(figsize=(10, 4))\n",
    "\n",
    "# Plot training and validation accuracy\n",
    "plt.subplot(1, 2, 1)\n",
    "plt.plot(history_mobileNet.history['accuracy'], label='Train Accuracy')\n",
    "plt.plot(history_mobileNet.history['val_accuracy'], label='Validation Accuracy')\n",
    "plt.title('Training and Validation Accuracy')\n",
    "plt.xlabel('Epoch')\n",
    "plt.ylabel('Accuracy')\n",
    "plt.legend()\n",
    "\n",
    "# Plot training and validation loss\n",
    "plt.subplot(1, 2, 2)\n",
    "plt.plot(history_mobileNet.history['loss'], label='Train Loss')\n",
    "plt.plot(history_mobileNet.history['val_loss'], label='Validation Loss')\n",
    "plt.title('Training and Validation Loss')\n",
    "plt.xlabel('Epoch')\n",
    "plt.ylabel('Loss')\n",
    "plt.legend()\n",
    "\n",
    "plt.tight_layout()\n",
    "plt.show()"
   ]
  },
  {
   "cell_type": "code",
   "execution_count": 30,
   "metadata": {},
   "outputs": [
    {
     "name": "stdout",
     "output_type": "stream",
     "text": [
      "38/38 [==============================] - 11s 282ms/step\n"
     ]
    }
   ],
   "source": [
    "y_pred_proba_mobileNet = model_mobileNet.predict(X_test)\n",
    "y_pred_mobileNet = np.argmax(y_pred_proba_mobileNet, axis=1)\n",
    "y_true_mobileNet = np.argmax(y_test, axis=1)"
   ]
  },
  {
   "cell_type": "code",
   "execution_count": 31,
   "metadata": {},
   "outputs": [
    {
     "name": "stdout",
     "output_type": "stream",
     "text": [
      "Precision (MobileNet): 0.8776335932077083\n",
      "Recall (MobileNet): 0.8766666666666667\n"
     ]
    }
   ],
   "source": [
    "precision_mobileNet = precision_score(y_true_mobileNet, y_pred_mobileNet, average='macro')\n",
    "recall_mobileNet = recall_score(y_true_mobileNet, y_pred_mobileNet, average='macro')\n",
    "\n",
    "print(f'Precision (MobileNet): {precision_mobileNet}')\n",
    "print(f'Recall (MobileNet): {recall_mobileNet}')"
   ]
  },
  {
   "cell_type": "code",
   "execution_count": null,
   "metadata": {},
   "outputs": [],
   "source": []
  }
 ],
 "metadata": {
  "kernelspec": {
   "display_name": "base",
   "language": "python",
   "name": "python3"
  },
  "language_info": {
   "codemirror_mode": {
    "name": "ipython",
    "version": 3
   },
   "file_extension": ".py",
   "mimetype": "text/x-python",
   "name": "python",
   "nbconvert_exporter": "python",
   "pygments_lexer": "ipython3",
   "version": "3.10.9"
  }
 },
 "nbformat": 4,
 "nbformat_minor": 2
}
