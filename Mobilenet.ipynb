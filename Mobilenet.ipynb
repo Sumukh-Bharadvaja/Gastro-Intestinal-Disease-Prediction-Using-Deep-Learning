{
  "nbformat": 4,
  "nbformat_minor": 0,
  "metadata": {
    "colab": {
      "provenance": [],
      "name": "Mobilenet.ipynb",
      "authorship_tag": "ABX9TyNMW1wrM2R6/KbfWyDuX7yh",
      "include_colab_link": true
    },
    "kernelspec": {
      "name": "python3",
      "display_name": "Python 3"
    },
    "language_info": {
      "name": "python"
    }
  },
  "cells": [
    {
      "cell_type": "markdown",
      "metadata": {
        "id": "view-in-github",
        "colab_type": "text"
      },
      "source": [
        "<a href=\"https://colab.research.google.com/github/Sumukh-Bharadvaja/AIT_736_Project/blob/main/Mobilenet.ipynb\" target=\"_parent\"><img src=\"https://colab.research.google.com/assets/colab-badge.svg\" alt=\"Open In Colab\"/></a>"
      ]
    },
    {
      "cell_type": "code",
      "execution_count": 1,
      "metadata": {
        "id": "bu4VeMPmNjYR"
      },
      "outputs": [],
      "source": [
        "import plotly.express as px\n",
        "import numpy as np # linear algebra\n",
        "import pandas as pd # data processing, CSV file I/O (e.g. pd.read_csv)\n",
        "import os\n",
        "import cv2 # For image operations\n",
        "import random # for shuffling\n",
        "from matplotlib import pyplot as plt, cm\n",
        "import seaborn as sns\n",
        "from pathlib import Path\n",
        "from tqdm import tqdm\n",
        "from sklearn.model_selection import train_test_split\n",
        "import tensorflow as tf\n",
        "from tensorflow import keras\n",
        "from tensorflow.keras import layers\n",
        "from tensorflow.keras.utils import to_categorical\n",
        "from sklearn.metrics import recall_score, precision_score, f1_score, accuracy_score\n",
        "\n",
        "from tensorflow.keras.applications import MobileNet\n",
        "from tensorflow.keras.models import Sequential\n",
        "from tensorflow.keras.layers import Dense, GlobalAveragePooling2D, Dropout\n",
        "from tensorflow.keras.optimizers import Adam"
      ]
    },
    {
      "cell_type": "code",
      "source": [
        "!pip install -q kaggle\n",
        "\n",
        "!pip install imblearn # install imblearn library for data balancing"
      ],
      "metadata": {
        "id": "wJ94vLlnKRj1",
        "outputId": "8db5af4b-7f3f-4f9c-e544-dc78c831856f",
        "colab": {
          "base_uri": "https://localhost:8080/"
        }
      },
      "execution_count": 2,
      "outputs": [
        {
          "output_type": "stream",
          "name": "stdout",
          "text": [
            "Collecting imblearn\n",
            "  Downloading imblearn-0.0-py2.py3-none-any.whl (1.9 kB)\n",
            "Requirement already satisfied: imbalanced-learn in /usr/local/lib/python3.10/dist-packages (from imblearn) (0.10.1)\n",
            "Requirement already satisfied: numpy>=1.17.3 in /usr/local/lib/python3.10/dist-packages (from imbalanced-learn->imblearn) (1.25.2)\n",
            "Requirement already satisfied: scipy>=1.3.2 in /usr/local/lib/python3.10/dist-packages (from imbalanced-learn->imblearn) (1.11.4)\n",
            "Requirement already satisfied: scikit-learn>=1.0.2 in /usr/local/lib/python3.10/dist-packages (from imbalanced-learn->imblearn) (1.2.2)\n",
            "Requirement already satisfied: joblib>=1.1.1 in /usr/local/lib/python3.10/dist-packages (from imbalanced-learn->imblearn) (1.3.2)\n",
            "Requirement already satisfied: threadpoolctl>=2.0.0 in /usr/local/lib/python3.10/dist-packages (from imbalanced-learn->imblearn) (3.3.0)\n",
            "Installing collected packages: imblearn\n",
            "Successfully installed imblearn-0.0\n"
          ]
        }
      ]
    },
    {
      "cell_type": "code",
      "source": [
        "from google.colab import files\n",
        "uploaded = files.upload()"
      ],
      "metadata": {
        "id": "Pk-frJTKKUwm",
        "outputId": "304725f0-675f-4277-d940-ba45a56e9b34",
        "colab": {
          "base_uri": "https://localhost:8080/",
          "height": 73
        }
      },
      "execution_count": 3,
      "outputs": [
        {
          "output_type": "display_data",
          "data": {
            "text/plain": [
              "<IPython.core.display.HTML object>"
            ],
            "text/html": [
              "\n",
              "     <input type=\"file\" id=\"files-397de295-401e-47f8-be78-9c276fac01aa\" name=\"files[]\" multiple disabled\n",
              "        style=\"border:none\" />\n",
              "     <output id=\"result-397de295-401e-47f8-be78-9c276fac01aa\">\n",
              "      Upload widget is only available when the cell has been executed in the\n",
              "      current browser session. Please rerun this cell to enable.\n",
              "      </output>\n",
              "      <script>// Copyright 2017 Google LLC\n",
              "//\n",
              "// Licensed under the Apache License, Version 2.0 (the \"License\");\n",
              "// you may not use this file except in compliance with the License.\n",
              "// You may obtain a copy of the License at\n",
              "//\n",
              "//      http://www.apache.org/licenses/LICENSE-2.0\n",
              "//\n",
              "// Unless required by applicable law or agreed to in writing, software\n",
              "// distributed under the License is distributed on an \"AS IS\" BASIS,\n",
              "// WITHOUT WARRANTIES OR CONDITIONS OF ANY KIND, either express or implied.\n",
              "// See the License for the specific language governing permissions and\n",
              "// limitations under the License.\n",
              "\n",
              "/**\n",
              " * @fileoverview Helpers for google.colab Python module.\n",
              " */\n",
              "(function(scope) {\n",
              "function span(text, styleAttributes = {}) {\n",
              "  const element = document.createElement('span');\n",
              "  element.textContent = text;\n",
              "  for (const key of Object.keys(styleAttributes)) {\n",
              "    element.style[key] = styleAttributes[key];\n",
              "  }\n",
              "  return element;\n",
              "}\n",
              "\n",
              "// Max number of bytes which will be uploaded at a time.\n",
              "const MAX_PAYLOAD_SIZE = 100 * 1024;\n",
              "\n",
              "function _uploadFiles(inputId, outputId) {\n",
              "  const steps = uploadFilesStep(inputId, outputId);\n",
              "  const outputElement = document.getElementById(outputId);\n",
              "  // Cache steps on the outputElement to make it available for the next call\n",
              "  // to uploadFilesContinue from Python.\n",
              "  outputElement.steps = steps;\n",
              "\n",
              "  return _uploadFilesContinue(outputId);\n",
              "}\n",
              "\n",
              "// This is roughly an async generator (not supported in the browser yet),\n",
              "// where there are multiple asynchronous steps and the Python side is going\n",
              "// to poll for completion of each step.\n",
              "// This uses a Promise to block the python side on completion of each step,\n",
              "// then passes the result of the previous step as the input to the next step.\n",
              "function _uploadFilesContinue(outputId) {\n",
              "  const outputElement = document.getElementById(outputId);\n",
              "  const steps = outputElement.steps;\n",
              "\n",
              "  const next = steps.next(outputElement.lastPromiseValue);\n",
              "  return Promise.resolve(next.value.promise).then((value) => {\n",
              "    // Cache the last promise value to make it available to the next\n",
              "    // step of the generator.\n",
              "    outputElement.lastPromiseValue = value;\n",
              "    return next.value.response;\n",
              "  });\n",
              "}\n",
              "\n",
              "/**\n",
              " * Generator function which is called between each async step of the upload\n",
              " * process.\n",
              " * @param {string} inputId Element ID of the input file picker element.\n",
              " * @param {string} outputId Element ID of the output display.\n",
              " * @return {!Iterable<!Object>} Iterable of next steps.\n",
              " */\n",
              "function* uploadFilesStep(inputId, outputId) {\n",
              "  const inputElement = document.getElementById(inputId);\n",
              "  inputElement.disabled = false;\n",
              "\n",
              "  const outputElement = document.getElementById(outputId);\n",
              "  outputElement.innerHTML = '';\n",
              "\n",
              "  const pickedPromise = new Promise((resolve) => {\n",
              "    inputElement.addEventListener('change', (e) => {\n",
              "      resolve(e.target.files);\n",
              "    });\n",
              "  });\n",
              "\n",
              "  const cancel = document.createElement('button');\n",
              "  inputElement.parentElement.appendChild(cancel);\n",
              "  cancel.textContent = 'Cancel upload';\n",
              "  const cancelPromise = new Promise((resolve) => {\n",
              "    cancel.onclick = () => {\n",
              "      resolve(null);\n",
              "    };\n",
              "  });\n",
              "\n",
              "  // Wait for the user to pick the files.\n",
              "  const files = yield {\n",
              "    promise: Promise.race([pickedPromise, cancelPromise]),\n",
              "    response: {\n",
              "      action: 'starting',\n",
              "    }\n",
              "  };\n",
              "\n",
              "  cancel.remove();\n",
              "\n",
              "  // Disable the input element since further picks are not allowed.\n",
              "  inputElement.disabled = true;\n",
              "\n",
              "  if (!files) {\n",
              "    return {\n",
              "      response: {\n",
              "        action: 'complete',\n",
              "      }\n",
              "    };\n",
              "  }\n",
              "\n",
              "  for (const file of files) {\n",
              "    const li = document.createElement('li');\n",
              "    li.append(span(file.name, {fontWeight: 'bold'}));\n",
              "    li.append(span(\n",
              "        `(${file.type || 'n/a'}) - ${file.size} bytes, ` +\n",
              "        `last modified: ${\n",
              "            file.lastModifiedDate ? file.lastModifiedDate.toLocaleDateString() :\n",
              "                                    'n/a'} - `));\n",
              "    const percent = span('0% done');\n",
              "    li.appendChild(percent);\n",
              "\n",
              "    outputElement.appendChild(li);\n",
              "\n",
              "    const fileDataPromise = new Promise((resolve) => {\n",
              "      const reader = new FileReader();\n",
              "      reader.onload = (e) => {\n",
              "        resolve(e.target.result);\n",
              "      };\n",
              "      reader.readAsArrayBuffer(file);\n",
              "    });\n",
              "    // Wait for the data to be ready.\n",
              "    let fileData = yield {\n",
              "      promise: fileDataPromise,\n",
              "      response: {\n",
              "        action: 'continue',\n",
              "      }\n",
              "    };\n",
              "\n",
              "    // Use a chunked sending to avoid message size limits. See b/62115660.\n",
              "    let position = 0;\n",
              "    do {\n",
              "      const length = Math.min(fileData.byteLength - position, MAX_PAYLOAD_SIZE);\n",
              "      const chunk = new Uint8Array(fileData, position, length);\n",
              "      position += length;\n",
              "\n",
              "      const base64 = btoa(String.fromCharCode.apply(null, chunk));\n",
              "      yield {\n",
              "        response: {\n",
              "          action: 'append',\n",
              "          file: file.name,\n",
              "          data: base64,\n",
              "        },\n",
              "      };\n",
              "\n",
              "      let percentDone = fileData.byteLength === 0 ?\n",
              "          100 :\n",
              "          Math.round((position / fileData.byteLength) * 100);\n",
              "      percent.textContent = `${percentDone}% done`;\n",
              "\n",
              "    } while (position < fileData.byteLength);\n",
              "  }\n",
              "\n",
              "  // All done.\n",
              "  yield {\n",
              "    response: {\n",
              "      action: 'complete',\n",
              "    }\n",
              "  };\n",
              "}\n",
              "\n",
              "scope.google = scope.google || {};\n",
              "scope.google.colab = scope.google.colab || {};\n",
              "scope.google.colab._files = {\n",
              "  _uploadFiles,\n",
              "  _uploadFilesContinue,\n",
              "};\n",
              "})(self);\n",
              "</script> "
            ]
          },
          "metadata": {}
        },
        {
          "output_type": "stream",
          "name": "stdout",
          "text": [
            "Saving kaggle.json to kaggle.json\n"
          ]
        }
      ]
    },
    {
      "cell_type": "code",
      "source": [
        "!mkdir -p ~/.kaggle\n",
        "!mv kaggle.json ~/.kaggle/\n",
        "!chmod 600 ~/.kaggle/kaggle.json"
      ],
      "metadata": {
        "id": "YV4zvWb1KYUR"
      },
      "execution_count": 4,
      "outputs": []
    },
    {
      "cell_type": "code",
      "source": [
        "!kaggle datasets download -d meetnagadia/kvasir-dataset  # Download the dataset\n",
        "!unzip -q kvasir-dataset.zip -d dataset"
      ],
      "metadata": {
        "id": "GN6PY5DtKlxv",
        "outputId": "61f65294-017b-4d75-9172-0351890e1718",
        "colab": {
          "base_uri": "https://localhost:8080/"
        }
      },
      "execution_count": 5,
      "outputs": [
        {
          "output_type": "stream",
          "name": "stdout",
          "text": [
            "Downloading kvasir-dataset.zip to /content\n",
            "100% 1.15G/1.15G [00:18<00:00, 93.3MB/s]\n",
            "100% 1.15G/1.15G [00:18<00:00, 67.6MB/s]\n"
          ]
        }
      ]
    },
    {
      "cell_type": "code",
      "source": [
        "dataset_path = 'dataset/kvasir-dataset'\n",
        "classes = ['dyed-lifted-polyps', 'dyed-resection-margins', 'esophagitis',\n",
        "           'normal-cecum', 'normal-pylorus', 'normal-z-line', 'polyps', 'ulcerative-colitis']"
      ],
      "metadata": {
        "id": "0PFcC9p3KqSi"
      },
      "execution_count": 6,
      "outputs": []
    },
    {
      "cell_type": "code",
      "source": [
        "class_images = {class_name: [] for class_name in classes}"
      ],
      "metadata": {
        "id": "j4Iz1sZ-K9w0"
      },
      "execution_count": 9,
      "outputs": []
    },
    {
      "cell_type": "code",
      "source": [
        "def load_images_from_folder(class_name, n=400, image_size=(150, 150)):\n",
        "    folder_path = os.path.join(dataset_path, class_name)\n",
        "    images = []\n",
        "    # Get the list of image file names\n",
        "    filenames = [os.path.join(folder_path, filename) for filename in os.listdir(folder_path)]\n",
        "    # Load the images\n",
        "    for filename in tqdm(filenames[:n], desc=f'Loading {class_name}'):\n",
        "        img = cv2.imread(filename)  # By default, OpenCV reads images in BGR format\n",
        "        img = cv2.cvtColor(img, cv2.COLOR_BGR2RGB)  # Convert to RGB format\n",
        "        img = cv2.resize(img, image_size)\n",
        "        img = img / 255.0  # Normalizing the image\n",
        "        images.append(img)  # Do not flatten\n",
        "    return images"
      ],
      "metadata": {
        "id": "XpOLG5KsLD_l"
      },
      "execution_count": 7,
      "outputs": []
    },
    {
      "cell_type": "code",
      "source": [
        "for class_name in classes:\n",
        "    class_images[class_name] = load_images_from_folder(class_name)"
      ],
      "metadata": {
        "id": "-Avydrc-LIPf",
        "outputId": "fdbab505-dc4c-49cf-847e-a3b84207c3c3",
        "colab": {
          "base_uri": "https://localhost:8080/"
        }
      },
      "execution_count": 10,
      "outputs": [
        {
          "output_type": "stream",
          "name": "stderr",
          "text": [
            "Loading dyed-lifted-polyps: 100%|██████████| 400/400 [00:04<00:00, 89.72it/s]\n",
            "Loading dyed-resection-margins: 100%|██████████| 400/400 [00:04<00:00, 89.29it/s]\n",
            "Loading esophagitis: 100%|██████████| 400/400 [00:15<00:00, 26.17it/s]\n",
            "Loading normal-cecum: 100%|██████████| 400/400 [00:05<00:00, 70.86it/s]\n",
            "Loading normal-pylorus: 100%|██████████| 400/400 [00:15<00:00, 25.11it/s]\n",
            "Loading normal-z-line: 100%|██████████| 400/400 [00:14<00:00, 27.14it/s]\n",
            "Loading polyps: 100%|██████████| 400/400 [00:06<00:00, 65.47it/s]\n",
            "Loading ulcerative-colitis: 100%|██████████| 400/400 [00:04<00:00, 88.26it/s]\n"
          ]
        }
      ]
    },
    {
      "cell_type": "code",
      "source": [
        "dyed_lifted_polyps = class_images['dyed-lifted-polyps']\n",
        "dyed_resection_margins = class_images['dyed-resection-margins']\n",
        "esophagitis=class_images['esophagitis']\n",
        "normal_cecum=class_images['normal-cecum']\n",
        "normal_pylorus=class_images['normal-pylorus']\n",
        "normal_z_line=class_images['normal-z-line']\n",
        "polyps=class_images['polyps']\n",
        "ulcerative_colitis=class_images['ulcerative-colitis']"
      ],
      "metadata": {
        "id": "orRChhqVLKkz"
      },
      "execution_count": 11,
      "outputs": []
    },
    {
      "cell_type": "code",
      "source": [
        "np.random.seed(150) # Random seed to control the randomness of generated values\n",
        "data = np.array(dyed_lifted_polyps + dyed_resection_margins + esophagitis + normal_cecum  + normal_pylorus + normal_z_line + polyps + ulcerative_colitis)  # Combining the list of images\n",
        "labels = np.array([0]*400 + [1]*400 +[2]*400 +[3]*400 +[4]*400 +[5]*400 +[6]*400 +[7]*400) # creating class labels for the image classes\n",
        "length = data.shape[0] # length of the data\n",
        "\n",
        "# Shuffling the data and labels\n",
        "indx = np.arange(length)\n",
        "np.random.shuffle(indx)\n",
        "\n",
        "data = data[indx]\n",
        "labels = labels[indx]"
      ],
      "metadata": {
        "id": "pj9nBeXsLRBb"
      },
      "execution_count": 12,
      "outputs": []
    },
    {
      "cell_type": "code",
      "source": [],
      "metadata": {
        "id": "G_z14tOFGRKC"
      },
      "execution_count": null,
      "outputs": []
    },
    {
      "cell_type": "code",
      "source": [
        "X_train, X_test, y_train, y_test = train_test_split(data, labels, random_state=150, test_size=0.3, stratify=labels, shuffle=True)"
      ],
      "metadata": {
        "id": "iBEHkdlaLvS4"
      },
      "execution_count": 13,
      "outputs": []
    },
    {
      "cell_type": "code",
      "source": [
        "y_test"
      ],
      "metadata": {
        "id": "pEs067RAGT8g",
        "outputId": "cf0df4a2-65cd-4223-d4d5-a15834c69ca4",
        "colab": {
          "base_uri": "https://localhost:8080/"
        }
      },
      "execution_count": 15,
      "outputs": [
        {
          "output_type": "execute_result",
          "data": {
            "text/plain": [
              "array([7, 5, 3, 6, 4, 5, 0, 2, 4, 5, 6, 1, 5, 0, 3, 3, 4, 0, 7, 2, 4, 3,\n",
              "       0, 7, 5, 7, 4, 4, 5, 5, 1, 6, 1, 6, 2, 3, 5, 2, 0, 2, 6, 0, 0, 6,\n",
              "       0, 2, 3, 5, 2, 1, 4, 3, 5, 3, 3, 2, 6, 2, 1, 7, 7, 2, 7, 4, 0, 2,\n",
              "       1, 3, 3, 0, 0, 7, 4, 3, 2, 4, 5, 6, 3, 4, 5, 5, 0, 1, 7, 6, 7, 4,\n",
              "       3, 4, 6, 2, 2, 2, 5, 0, 3, 2, 0, 4, 0, 0, 3, 4, 3, 4, 2, 1, 7, 4,\n",
              "       1, 4, 1, 0, 1, 0, 1, 5, 7, 7, 0, 1, 6, 4, 7, 6, 7, 0, 3, 1, 2, 2,\n",
              "       3, 3, 2, 0, 7, 0, 3, 2, 1, 5, 1, 5, 7, 2, 4, 6, 4, 4, 7, 2, 3, 0,\n",
              "       4, 1, 7, 2, 6, 3, 0, 7, 2, 3, 5, 4, 4, 2, 1, 1, 4, 3, 1, 5, 6, 5,\n",
              "       4, 5, 4, 1, 6, 1, 1, 4, 0, 2, 6, 2, 7, 2, 2, 0, 6, 3, 1, 3, 4, 6,\n",
              "       5, 1, 5, 4, 5, 1, 1, 6, 7, 0, 4, 7, 6, 1, 2, 0, 4, 2, 3, 6, 0, 2,\n",
              "       6, 7, 6, 4, 2, 6, 1, 3, 0, 1, 6, 0, 5, 0, 2, 3, 5, 1, 6, 2, 0, 5,\n",
              "       5, 4, 7, 0, 3, 3, 3, 1, 0, 6, 0, 3, 2, 1, 5, 0, 4, 6, 0, 6, 5, 2,\n",
              "       0, 2, 7, 3, 6, 3, 2, 2, 4, 7, 3, 2, 1, 6, 7, 7, 0, 7, 6, 7, 1, 3,\n",
              "       1, 5, 3, 6, 1, 1, 0, 7, 7, 7, 2, 7, 6, 7, 6, 7, 1, 4, 2, 7, 7, 3,\n",
              "       4, 1, 1, 1, 0, 6, 4, 5, 3, 3, 4, 6, 2, 6, 0, 3, 2, 6, 1, 5, 1, 7,\n",
              "       1, 1, 2, 4, 3, 1, 6, 3, 6, 0, 2, 0, 2, 1, 3, 7, 5, 1, 6, 0, 0, 7,\n",
              "       2, 4, 3, 2, 1, 1, 7, 7, 0, 1, 3, 0, 6, 2, 0, 1, 3, 0, 1, 2, 4, 5,\n",
              "       6, 2, 7, 2, 4, 3, 1, 0, 4, 7, 2, 3, 4, 0, 3, 2, 5, 6, 4, 2, 7, 5,\n",
              "       6, 3, 4, 5, 2, 1, 7, 7, 5, 0, 1, 4, 5, 7, 5, 3, 2, 1, 5, 2, 3, 4,\n",
              "       2, 7, 4, 5, 3, 0, 5, 0, 5, 2, 1, 1, 1, 3, 1, 3, 6, 5, 5, 1, 5, 1,\n",
              "       4, 3, 1, 6, 0, 4, 7, 6, 1, 6, 5, 7, 0, 2, 7, 7, 7, 1, 3, 2, 4, 6,\n",
              "       7, 2, 7, 5, 0, 7, 4, 5, 0, 7, 3, 6, 1, 1, 7, 4, 7, 0, 3, 6, 5, 1,\n",
              "       2, 0, 3, 7, 4, 3, 2, 6, 3, 3, 4, 6, 7, 5, 4, 0, 4, 7, 3, 1, 6, 6,\n",
              "       0, 4, 3, 4, 5, 5, 5, 1, 1, 6, 3, 5, 4, 3, 5, 4, 1, 2, 7, 6, 1, 4,\n",
              "       2, 4, 0, 6, 1, 2, 3, 6, 4, 7, 2, 3, 4, 6, 7, 7, 1, 1, 3, 2, 0, 0,\n",
              "       7, 5, 6, 5, 5, 7, 6, 5, 0, 2, 0, 0, 2, 0, 4, 7, 0, 0, 2, 7, 4, 6,\n",
              "       7, 0, 4, 7, 0, 1, 2, 5, 6, 4, 6, 0, 1, 4, 5, 0, 7, 0, 5, 1, 6, 3,\n",
              "       4, 2, 0, 5, 1, 2, 7, 1, 4, 4, 1, 4, 4, 2, 0, 5, 6, 6, 4, 7, 4, 6,\n",
              "       3, 7, 2, 6, 5, 6, 0, 2, 5, 7, 1, 2, 4, 0, 2, 1, 7, 2, 1, 1, 5, 5,\n",
              "       6, 2, 6, 2, 5, 2, 1, 1, 6, 1, 2, 6, 3, 3, 7, 0, 5, 7, 7, 6, 0, 4,\n",
              "       1, 3, 5, 7, 3, 3, 2, 7, 5, 2, 0, 1, 4, 3, 2, 5, 4, 3, 0, 5, 4, 3,\n",
              "       6, 2, 1, 4, 5, 3, 6, 4, 1, 4, 4, 5, 0, 6, 6, 1, 4, 0, 5, 7, 4, 3,\n",
              "       4, 3, 5, 1, 7, 5, 0, 7, 4, 5, 0, 6, 4, 5, 7, 5, 2, 0, 7, 7, 6, 4,\n",
              "       7, 1, 2, 7, 1, 2, 0, 1, 3, 0, 0, 4, 2, 0, 6, 4, 5, 7, 0, 6, 5, 3,\n",
              "       0, 0, 2, 5, 1, 3, 5, 4, 2, 7, 1, 3, 7, 4, 2, 0, 4, 2, 1, 1, 4, 7,\n",
              "       7, 3, 6, 5, 0, 3, 1, 0, 2, 1, 6, 2, 4, 6, 4, 5, 4, 4, 7, 6, 3, 5,\n",
              "       6, 3, 5, 7, 7, 4, 6, 2, 6, 5, 3, 1, 6, 4, 3, 6, 7, 7, 2, 0, 5, 5,\n",
              "       0, 7, 2, 0, 3, 4, 6, 1, 7, 5, 3, 6, 3, 4, 5, 5, 5, 5, 7, 5, 3, 6,\n",
              "       5, 5, 6, 3, 2, 1, 7, 6, 5, 5, 4, 5, 2, 0, 0, 4, 7, 1, 3, 3, 4, 6,\n",
              "       5, 3, 7, 3, 3, 0, 6, 6, 3, 3, 0, 6, 7, 3, 7, 0, 0, 3, 6, 0, 6, 1,\n",
              "       6, 2, 2, 7, 0, 5, 1, 5, 4, 3, 2, 5, 7, 6, 0, 5, 5, 3, 2, 2, 5, 6,\n",
              "       2, 3, 3, 6, 2, 1, 0, 4, 3, 7, 6, 3, 6, 1, 5, 0, 3, 5, 5, 7, 5, 6,\n",
              "       4, 2, 5, 2, 4, 7, 0, 7, 2, 3, 1, 1, 6, 1, 1, 0, 3, 6, 6, 7, 1, 3,\n",
              "       6, 0, 4, 6, 0, 7, 2, 0, 4, 5, 1, 2, 6, 4])"
            ]
          },
          "metadata": {},
          "execution_count": 15
        }
      ]
    },
    {
      "cell_type": "markdown",
      "source": [],
      "metadata": {
        "id": "i5bZMiV1GTxp"
      }
    },
    {
      "cell_type": "markdown",
      "source": [
        "## **One hot encoding**\n",
        "- Since the categories has class vectors we would be converting them to binary class matrices using one-hot encoding"
      ],
      "metadata": {
        "id": "GIJHN4qpL3_2"
      }
    },
    {
      "cell_type": "code",
      "source": [
        "y_train_one = to_categorical(y_train)\n",
        "y_test_one=to_categorical(y_test)"
      ],
      "metadata": {
        "id": "umHZ6YwDLy9U"
      },
      "execution_count": 16,
      "outputs": []
    },
    {
      "cell_type": "code",
      "source": [
        "y_test_one"
      ],
      "metadata": {
        "id": "WgoiFyuSGexv",
        "outputId": "b636f97b-88ff-4cab-f317-d3a092b195b5",
        "colab": {
          "base_uri": "https://localhost:8080/"
        }
      },
      "execution_count": 18,
      "outputs": [
        {
          "output_type": "execute_result",
          "data": {
            "text/plain": [
              "array([[0., 0., 0., ..., 0., 0., 1.],\n",
              "       [0., 0., 0., ..., 1., 0., 0.],\n",
              "       [0., 0., 0., ..., 0., 0., 0.],\n",
              "       ...,\n",
              "       [0., 0., 1., ..., 0., 0., 0.],\n",
              "       [0., 0., 0., ..., 0., 1., 0.],\n",
              "       [0., 0., 0., ..., 0., 0., 0.]], dtype=float32)"
            ]
          },
          "metadata": {},
          "execution_count": 18
        }
      ]
    },
    {
      "cell_type": "code",
      "source": [
        "base_model = MobileNet(weights='imagenet', include_top=False, input_shape=(150, 150, 3))\n",
        "\n",
        "# Freeze the layers in the base model\n",
        "for layer in base_model.layers:\n",
        "    layer.trainable = False"
      ],
      "metadata": {
        "id": "pMenpe4WL3Fy",
        "outputId": "59fbad30-3491-4ec9-e276-3304b56c7798",
        "colab": {
          "base_uri": "https://localhost:8080/"
        }
      },
      "execution_count": 14,
      "outputs": [
        {
          "output_type": "stream",
          "name": "stderr",
          "text": [
            "WARNING:tensorflow:`input_shape` is undefined or non-square, or `rows` is not in [128, 160, 192, 224]. Weights for input shape (224, 224) will be loaded as the default.\n"
          ]
        },
        {
          "output_type": "stream",
          "name": "stdout",
          "text": [
            "Downloading data from https://storage.googleapis.com/tensorflow/keras-applications/mobilenet/mobilenet_1_0_224_tf_no_top.h5\n",
            "17225924/17225924 [==============================] - 0s 0us/step\n"
          ]
        }
      ]
    },
    {
      "cell_type": "code",
      "source": [
        "number_of_classes = 8\n",
        "\n",
        "# Create the model\n",
        "model_mobileNet = Sequential([\n",
        "    base_model,\n",
        "    GlobalAveragePooling2D(),\n",
        "    Dense(256, activation='relu'),\n",
        "    Dropout(0.5),\n",
        "    Dense(number_of_classes, activation='softmax')  # Final layer with softmax activation for 'n' classes\n",
        "])"
      ],
      "metadata": {
        "id": "lxVoZmmdMFP9"
      },
      "execution_count": 15,
      "outputs": []
    },
    {
      "cell_type": "code",
      "source": [
        "model_mobileNet.summary()"
      ],
      "metadata": {
        "id": "Sr3qF4lEMO_p",
        "outputId": "d1430cf6-ba62-4f19-cc25-3ded10cbf066",
        "colab": {
          "base_uri": "https://localhost:8080/"
        }
      },
      "execution_count": 16,
      "outputs": [
        {
          "output_type": "stream",
          "name": "stdout",
          "text": [
            "Model: \"sequential\"\n",
            "_________________________________________________________________\n",
            " Layer (type)                Output Shape              Param #   \n",
            "=================================================================\n",
            " mobilenet_1.00_224 (Functi  (None, 4, 4, 1024)        3228864   \n",
            " onal)                                                           \n",
            "                                                                 \n",
            " global_average_pooling2d (  (None, 1024)              0         \n",
            " GlobalAveragePooling2D)                                         \n",
            "                                                                 \n",
            " dense (Dense)               (None, 256)               262400    \n",
            "                                                                 \n",
            " dropout (Dropout)           (None, 256)               0         \n",
            "                                                                 \n",
            " dense_1 (Dense)             (None, 8)                 2056      \n",
            "                                                                 \n",
            "=================================================================\n",
            "Total params: 3493320 (13.33 MB)\n",
            "Trainable params: 264456 (1.01 MB)\n",
            "Non-trainable params: 3228864 (12.32 MB)\n",
            "_________________________________________________________________\n"
          ]
        }
      ]
    },
    {
      "cell_type": "code",
      "source": [
        "model_mobileNet.compile(optimizer=Adam(lr=1e-5),\n",
        "                        loss='categorical_crossentropy',\n",
        "                        metrics=['accuracy'])"
      ],
      "metadata": {
        "id": "Q6OKlyzKMR33",
        "outputId": "0f1e4f6c-8dc2-4f4f-8e3e-b9a7ac9cea74",
        "colab": {
          "base_uri": "https://localhost:8080/"
        }
      },
      "execution_count": 17,
      "outputs": [
        {
          "output_type": "stream",
          "name": "stderr",
          "text": [
            "WARNING:absl:`lr` is deprecated in Keras optimizer, please use `learning_rate` or use the legacy optimizer, e.g.,tf.keras.optimizers.legacy.Adam.\n"
          ]
        }
      ]
    },
    {
      "cell_type": "code",
      "source": [
        "history_mobileNet = model_mobileNet.fit(X_train, y_train_one,\n",
        "                                        batch_size=32,\n",
        "                                        epochs=10,  # Adjust number of epochs as necessary\n",
        "                                        validation_data=(X_test, y_test_one))"
      ],
      "metadata": {
        "id": "ut1sdOpcOKE-",
        "outputId": "54ce331d-6417-4323-a69d-ed1d6bf01b4a",
        "colab": {
          "base_uri": "https://localhost:8080/"
        }
      },
      "execution_count": 18,
      "outputs": [
        {
          "output_type": "stream",
          "name": "stdout",
          "text": [
            "Epoch 1/10\n",
            "70/70 [==============================] - 57s 787ms/step - loss: 1.0755 - accuracy: 0.6357 - val_loss: 0.5081 - val_accuracy: 0.8115\n",
            "Epoch 2/10\n",
            "70/70 [==============================] - 53s 766ms/step - loss: 0.5339 - accuracy: 0.7826 - val_loss: 0.4223 - val_accuracy: 0.8292\n",
            "Epoch 3/10\n",
            "70/70 [==============================] - 56s 807ms/step - loss: 0.3874 - accuracy: 0.8576 - val_loss: 0.3775 - val_accuracy: 0.8385\n",
            "Epoch 4/10\n",
            "70/70 [==============================] - 85s 1s/step - loss: 0.3617 - accuracy: 0.8647 - val_loss: 0.4092 - val_accuracy: 0.8333\n",
            "Epoch 5/10\n",
            "70/70 [==============================] - 52s 751ms/step - loss: 0.2925 - accuracy: 0.8741 - val_loss: 0.3756 - val_accuracy: 0.8521\n",
            "Epoch 6/10\n",
            "70/70 [==============================] - 54s 778ms/step - loss: 0.2424 - accuracy: 0.9094 - val_loss: 0.3912 - val_accuracy: 0.8281\n",
            "Epoch 7/10\n",
            "70/70 [==============================] - 47s 670ms/step - loss: 0.2448 - accuracy: 0.9085 - val_loss: 0.3723 - val_accuracy: 0.8406\n",
            "Epoch 8/10\n",
            "70/70 [==============================] - 53s 764ms/step - loss: 0.2396 - accuracy: 0.9076 - val_loss: 0.3606 - val_accuracy: 0.8490\n",
            "Epoch 9/10\n",
            "70/70 [==============================] - 53s 763ms/step - loss: 0.1879 - accuracy: 0.9295 - val_loss: 0.3839 - val_accuracy: 0.8573\n",
            "Epoch 10/10\n",
            "70/70 [==============================] - 53s 763ms/step - loss: 0.1903 - accuracy: 0.9192 - val_loss: 0.3763 - val_accuracy: 0.8552\n"
          ]
        }
      ]
    },
    {
      "cell_type": "code",
      "source": [
        "test_loss, test_accuracy = model_mobileNet.evaluate(X_test, y_test_one)\n",
        "print(f'Test Accuracy: {test_accuracy}')"
      ],
      "metadata": {
        "id": "jW7dhzqEO7pR",
        "outputId": "f97cd5bd-3ff2-4bb9-92e9-7048b19c43e4",
        "colab": {
          "base_uri": "https://localhost:8080/"
        }
      },
      "execution_count": 19,
      "outputs": [
        {
          "output_type": "stream",
          "name": "stdout",
          "text": [
            "30/30 [==============================] - 14s 465ms/step - loss: 0.3763 - accuracy: 0.8552\n",
            "Test Accuracy: 0.8552083373069763\n"
          ]
        }
      ]
    },
    {
      "cell_type": "code",
      "source": [
        "plt.plot(history_mobileNet.history['accuracy'], label='train_accuracy')\n",
        "plt.plot(history_mobileNet.history['val_accuracy'], label='val_accuracy')\n",
        "plt.plot(history_mobileNet.history['loss'], label='train_loss')\n",
        "plt.plot(history_mobileNet.history['val_loss'], label='val_loss')\n",
        "plt.xlabel('Epochs')\n",
        "plt.ylabel('Metrics')\n",
        "plt.title('Training and Validation Metrics')\n",
        "plt.legend()\n",
        "plt.show()"
      ],
      "metadata": {
        "id": "VMQOUrpfONWU",
        "outputId": "b0b94e09-a457-4f06-a8a9-23ac3cde3e59",
        "colab": {
          "base_uri": "https://localhost:8080/",
          "height": 472
        }
      },
      "execution_count": 20,
      "outputs": [
        {
          "output_type": "display_data",
          "data": {
            "text/plain": [
              "<Figure size 640x480 with 1 Axes>"
            ],
            "image/png": "[encoded data removed]"
          },
          "metadata": {}
        }
      ]
    },
    {
      "cell_type": "code",
      "source": [
        "y_pred_proba_mobileNet = model_mobileNet.predict(X_test)\n",
        "y_pred_mobileNet = np.argmax(y_pred_proba_mobileNet, axis=1)\n",
        "y_true_mobileNet = np.argmax(y_test_one, axis=1)"
      ],
      "metadata": {
        "id": "DWAWJ6-6PUi9",
        "outputId": "689656e1-3043-4ea1-bfef-5fc6a55afced",
        "colab": {
          "base_uri": "https://localhost:8080/"
        }
      },
      "execution_count": 21,
      "outputs": [
        {
          "output_type": "stream",
          "name": "stdout",
          "text": [
            "30/30 [==============================] - 14s 442ms/step\n"
          ]
        }
      ]
    },
    {
      "cell_type": "code",
      "source": [
        "\n",
        "precision_mobileNet = precision_score(y_true_mobileNet, y_pred_mobileNet, average='macro')\n",
        "recall_mobileNet = recall_score(y_true_mobileNet, y_pred_mobileNet, average='macro')\n",
        "\n",
        "print(f'Precision (MobileNet): {precision_mobileNet}')\n",
        "print(f'Recall (MobileNet): {recall_mobileNet}')"
      ],
      "metadata": {
        "id": "-PzDqojCPVM_",
        "outputId": "a184916b-0258-4218-f420-d5d401f42028",
        "colab": {
          "base_uri": "https://localhost:8080/"
        }
      },
      "execution_count": 22,
      "outputs": [
        {
          "output_type": "stream",
          "name": "stdout",
          "text": [
            "Precision (MobileNet): 0.854424313139589\n",
            "Recall (MobileNet): 0.8552083333333333\n"
          ]
        }
      ]
    },
    {
      "cell_type": "markdown",
      "source": [
        "This models seems to be performing better for given dataset as it reduces the training and validation loss significantly.\n",
        "\n",
        "Moreover the training accuracy is almost similar to the validation accuracy as well."
      ],
      "metadata": {
        "id": "hLbGaRFnZo5c"
      }
    },
    {
      "cell_type": "markdown",
      "source": [
        "Conducting stratified cross validation would give us more insights on the model on overfitting."
      ],
      "metadata": {
        "id": "VkOciJIIaj1Z"
      }
    },
    {
      "cell_type": "code",
      "source": [
        "from tensorflow.keras.layers import GlobalAveragePooling2D, Dense, Dropout\n",
        "from tensorflow.keras.models import Sequential\n",
        "from tensorflow.keras.optimizers import SGD\n",
        "from tensorflow.keras.callbacks import EarlyStopping, ModelCheckpoint\n",
        "\n",
        "base_model = MobileNet(weights='imagenet', include_top=False, input_shape=(150, 150, 3))\n",
        "\n",
        "# Freeze the convolutional layers of the MobileNet model\n",
        "for layer in base_model.layers:\n",
        "    layer.trainable = False\n",
        "\n",
        "# Add new layers on top of MobileNet\n",
        "model_mobilnet_sgd = Sequential([\n",
        "    base_model,\n",
        "    GlobalAveragePooling2D(),\n",
        "    Dense(256, activation='relu'),\n",
        "    Dropout(0.5),\n",
        "    Dense(number_of_classes, activation='softmax')  # Make sure 'number_of_classes' is set correctly\n",
        "])\n",
        "\n",
        "# Hyperparameters\n",
        "batch_size = 50\n",
        "epochs = 10\n",
        "learn_rate = 0.001\n",
        "\n",
        "# Initialize the SGD optimizer\n",
        "sgd_optimizer = SGD(learning_rate=learn_rate, momentum=0.9, nesterov=False)\n",
        "\n",
        "# Compile the model\n",
        "model_mobilnet_sgd.compile(optimizer=sgd_optimizer, loss=\"categorical_crossentropy\", metrics=[\"accuracy\"])\n",
        "\n",
        "# Define the callbacks\n",
        "early_stopping = EarlyStopping(monitor='val_loss', patience=10, verbose=1, mode='min', restore_best_weights=True)\n",
        "model_checkpoint = ModelCheckpoint('model_mobilnet_sgd_best.h5', monitor='val_loss', save_best_only=True, mode='min', verbose=1)\n",
        "\n",
        "# Train the model\n",
        "history_mobilnet_sgd = model_mobilnet_sgd.fit(\n",
        "    X_train, y_train_one,\n",
        "    batch_size=batch_size,\n",
        "    epochs=epochs,\n",
        "    validation_data=(X_test, y_test_one),\n",
        "    callbacks=[early_stopping, model_checkpoint]\n",
        ")\n",
        "\n",
        "# Load the best weights (optional)\n",
        "model_mobilnet_sgd.load_weights('model_mobilnet_sgd_best.h5')\n",
        "\n",
        "# Evaluate the model on the test set\n",
        "test_loss, test_accuracy = model_mobilnet_sgd.evaluate(X_test, y_test_one)\n",
        "print(f'Test Accuracy with SGD: {test_accuracy:.4f}')"
      ],
      "metadata": {
        "id": "q8b1sA0DPYkF",
        "outputId": "369d01a4-3b66-4fba-ef6b-df69cbbc395c",
        "colab": {
          "base_uri": "https://localhost:8080/"
        }
      },
      "execution_count": 24,
      "outputs": [
        {
          "metadata": {
            "tags": null
          },
          "name": "stderr",
          "output_type": "stream",
          "text": [
            "WARNING:tensorflow:`input_shape` is undefined or non-square, or `rows` is not in [128, 160, 192, 224]. Weights for input shape (224, 224) will be loaded as the default.\n"
          ]
        },
        {
          "metadata": {
            "tags": null
          },
          "name": "stdout",
          "output_type": "stream",
          "text": [
            "Epoch 1/10\n",
            "45/45 [==============================] - ETA: 0s - loss: 2.1236 - accuracy: 0.3969\n",
            "Epoch 1: val_loss improved from inf to 0.79108, saving model to model_mobilnet_sgd_best.h5\n",
            "45/45 [==============================] - 63s 1s/step - loss: 2.1236 - accuracy: 0.3969 - val_loss: 0.7911 - val_accuracy: 0.7219\n",
            "Epoch 2/10\n"
          ]
        },
        {
          "metadata": {
            "tags": null
          },
          "name": "stderr",
          "output_type": "stream",
          "text": [
            "/usr/local/lib/python3.10/dist-packages/keras/src/engine/training.py:3103: UserWarning: You are saving your model as an HDF5 file via `model.save()`. This file format is considered legacy. We recommend using instead the native Keras format, e.g. `model.save('my_model.keras')`.\n",
            "  saving_api.save_model(\n"
          ]
        },
        {
          "metadata": {
            "tags": null
          },
          "name": "stdout",
          "output_type": "stream",
          "text": [
            "45/45 [==============================] - ETA: 0s - loss: 0.8652 - accuracy: 0.6884\n",
            "Epoch 2: val_loss improved from 0.79108 to 0.59784, saving model to model_mobilnet_sgd_best.h5\n",
            "45/45 [==============================] - 55s 1s/step - loss: 0.8652 - accuracy: 0.6884 - val_loss: 0.5978 - val_accuracy: 0.7885\n",
            "Epoch 3/10\n",
            "45/45 [==============================] - ETA: 0s - loss: 0.6922 - accuracy: 0.7388\n",
            "Epoch 3: val_loss improved from 0.59784 to 0.53399, saving model to model_mobilnet_sgd_best.h5\n",
            "45/45 [==============================] - 56s 1s/step - loss: 0.6922 - accuracy: 0.7388 - val_loss: 0.5340 - val_accuracy: 0.8094\n",
            "Epoch 4/10\n",
            "45/45 [==============================] - ETA: 0s - loss: 0.6005 - accuracy: 0.7768\n",
            "Epoch 4: val_loss improved from 0.53399 to 0.49165, saving model to model_mobilnet_sgd_best.h5\n",
            "45/45 [==============================] - 56s 1s/step - loss: 0.6005 - accuracy: 0.7768 - val_loss: 0.4916 - val_accuracy: 0.8115\n",
            "Epoch 5/10\n",
            "45/45 [==============================] - ETA: 0s - loss: 0.5493 - accuracy: 0.7924\n",
            "Epoch 5: val_loss improved from 0.49165 to 0.46944, saving model to model_mobilnet_sgd_best.h5\n",
            "45/45 [==============================] - 55s 1s/step - loss: 0.5493 - accuracy: 0.7924 - val_loss: 0.4694 - val_accuracy: 0.8125\n",
            "Epoch 6/10\n",
            "45/45 [==============================] - ETA: 0s - loss: 0.5002 - accuracy: 0.8094\n",
            "Epoch 6: val_loss improved from 0.46944 to 0.44983, saving model to model_mobilnet_sgd_best.h5\n",
            "45/45 [==============================] - 56s 1s/step - loss: 0.5002 - accuracy: 0.8094 - val_loss: 0.4498 - val_accuracy: 0.8198\n",
            "Epoch 7/10\n",
            "45/45 [==============================] - ETA: 0s - loss: 0.4789 - accuracy: 0.8116\n",
            "Epoch 7: val_loss improved from 0.44983 to 0.43739, saving model to model_mobilnet_sgd_best.h5\n",
            "45/45 [==============================] - 50s 1s/step - loss: 0.4789 - accuracy: 0.8116 - val_loss: 0.4374 - val_accuracy: 0.8260\n",
            "Epoch 8/10\n",
            "45/45 [==============================] - ETA: 0s - loss: 0.4374 - accuracy: 0.8313\n",
            "Epoch 8: val_loss improved from 0.43739 to 0.43050, saving model to model_mobilnet_sgd_best.h5\n",
            "45/45 [==============================] - 54s 1s/step - loss: 0.4374 - accuracy: 0.8313 - val_loss: 0.4305 - val_accuracy: 0.8260\n",
            "Epoch 9/10\n",
            "45/45 [==============================] - ETA: 0s - loss: 0.3984 - accuracy: 0.8527\n",
            "Epoch 9: val_loss improved from 0.43050 to 0.41510, saving model to model_mobilnet_sgd_best.h5\n",
            "45/45 [==============================] - 55s 1s/step - loss: 0.3984 - accuracy: 0.8527 - val_loss: 0.4151 - val_accuracy: 0.8281\n",
            "Epoch 10/10\n",
            "45/45 [==============================] - ETA: 0s - loss: 0.3795 - accuracy: 0.8567\n",
            "Epoch 10: val_loss improved from 0.41510 to 0.41057, saving model to model_mobilnet_sgd_best.h5\n",
            "45/45 [==============================] - 55s 1s/step - loss: 0.3795 - accuracy: 0.8567 - val_loss: 0.4106 - val_accuracy: 0.8385\n",
            "30/30 [==============================] - 13s 435ms/step - loss: 0.4106 - accuracy: 0.8385\n",
            "Test Accuracy with SGD: 0.8385\n"
          ]
        }
      ]
    },
    {
      "cell_type": "code",
      "source": [],
      "metadata": {
        "id": "ghyDEITDa3c0"
      },
      "execution_count": null,
      "outputs": []
    }
  ]
}